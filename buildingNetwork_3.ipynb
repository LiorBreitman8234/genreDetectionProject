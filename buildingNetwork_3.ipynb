{
 "cells": [
  {
   "cell_type": "code",
   "execution_count": null,
   "outputs": [],
   "source": [
    "import tensorflow.compat.v1 as tf\n",
    "\n",
    "tf.disable_v2_behavior()\n",
    "import pandas as pd\n",
    "from sklearn.preprocessing import OneHotEncoder\n",
    "from sklearn.model_selection import train_test_split\n",
    "import numpy as np"
   ],
   "metadata": {
    "collapsed": false,
    "pycharm": {
     "name": "#%%\n"
    }
   }
  },
  {
   "cell_type": "code",
   "execution_count": null,
   "outputs": [],
   "source": [
    "#Loading and splitting the data\n",
    "allData = pd.read_csv(\"data/songs_with_genre.csv\", index_col=0,\n",
    "                      header=[0, 1, 2])\n",
    "generes = allData[\"genre_id\"]\n",
    "genres_index = pd.read_csv(\"data/genres_index.csv\", index_col=0)\n",
    "allData.drop(columns=[\"genre_id\"], inplace=True)\n",
    "data_x = allData\n",
    "data_x.columns = range(data_x.shape[1])"
   ],
   "metadata": {
    "collapsed": false,
    "pycharm": {
     "name": "#%%\n"
    }
   }
  },
  {
   "cell_type": "code",
   "execution_count": null,
   "outputs": [],
   "source": [
    "mu = np.mean(data_x, axis=0)\n",
    "sigma = (np.std(data_x, axis=0))\n",
    "data_x = (data_x - mu) / sigma"
   ],
   "metadata": {
    "collapsed": false,
    "pycharm": {
     "name": "#%%\n"
    }
   }
  },
  {
   "cell_type": "code",
   "execution_count": null,
   "outputs": [],
   "source": [
    "#Creating the right lables\n",
    "generes.columns = range(generes.shape[1])\n",
    "targets = OneHotEncoder().fit_transform(genres_index).toarray()\n",
    "generes[0] = generes[0] - 1\n",
    "data_y = [targets[i - 1] for i in generes[0]]\n",
    "generes[0] = data_y"
   ],
   "metadata": {
    "collapsed": false,
    "pycharm": {
     "name": "#%%\n"
    }
   }
  },
  {
   "cell_type": "code",
   "execution_count": null,
   "outputs": [],
   "source": [
    "test = generes.copy()\n",
    "test.rename(columns={0: \"oneHotVector\"}, inplace=True)\n",
    "test.shape"
   ],
   "metadata": {
    "collapsed": false,
    "pycharm": {
     "name": "#%%\n"
    }
   }
  },
  {
   "cell_type": "code",
   "execution_count": null,
   "outputs": [],
   "source": [
    "split = pd.DataFrame(test[\"oneHotVector\"].to_list(), columns=range(161))\n",
    "print(split.shape)\n",
    "split.head()"
   ],
   "metadata": {
    "collapsed": false,
    "pycharm": {
     "name": "#%%\n"
    }
   }
  },
  {
   "cell_type": "code",
   "execution_count": null,
   "outputs": [],
   "source": [
    "split.index = generes.index"
   ],
   "metadata": {
    "collapsed": false,
    "pycharm": {
     "name": "#%%\n"
    }
   }
  },
  {
   "cell_type": "code",
   "execution_count": null,
   "outputs": [],
   "source": [
    "generes = split"
   ],
   "metadata": {
    "collapsed": false,
    "pycharm": {
     "name": "#%%\n"
    }
   }
  },
  {
   "cell_type": "code",
   "execution_count": null,
   "outputs": [],
   "source": [
    "#Creating train,test and validation sets\n",
    "x_train, x_rest, y_train, y_rest = train_test_split(data_x, generes, train_size=0.8)\n",
    "x_test, x_valid, y_test, y_valid = train_test_split(x_rest, y_rest, train_size=0.5)"
   ],
   "metadata": {
    "collapsed": false,
    "pycharm": {
     "name": "#%%\n"
    }
   }
  },
  {
   "cell_type": "code",
   "execution_count": null,
   "outputs": [],
   "source": [
    "x_train.head()"
   ],
   "metadata": {
    "collapsed": false,
    "pycharm": {
     "name": "#%%\n"
    }
   }
  },
  {
   "cell_type": "code",
   "execution_count": null,
   "outputs": [],
   "source": [
    "#Defining the initial weights and input/output\n",
    "\n",
    "(first_layer_size, second_layer_size, third_layer_size) = [518 // 8, 518 // 4, 518 // 8]\n",
    "x = tf.placeholder(tf.float32, [None, 518])\n",
    "y = tf.placeholder(tf.float32, [None, 161])\n",
    "\n",
    "weight_first = tf.Variable(tf.truncated_normal([518, first_layer_size], stddev=0.3, dtype=tf.float32))\n",
    "bias_first = tf.Variable(tf.constant(0, shape=[first_layer_size], dtype=tf.float32))\n",
    "activation_first = tf.nn.relu6(tf.matmul(x, weight_first) + bias_first)\n",
    "\n",
    "weight_second = tf.Variable(tf.truncated_normal([first_layer_size, second_layer_size], stddev=0.3, dtype=tf.float32))\n",
    "bias_second = tf.Variable(tf.constant(0, shape=[second_layer_size], dtype=tf.float32))\n",
    "activation_second = tf.nn.relu6(tf.matmul(activation_first, weight_second) + bias_second)\n",
    "\n",
    "weight_third = tf.Variable(tf.truncated_normal([second_layer_size, third_layer_size], stddev=0.3, dtype=tf.float32))\n",
    "bias_third = tf.Variable(tf.constant(0, shape=[third_layer_size], dtype=tf.float32))\n",
    "activation_third = tf.nn.relu6(tf.matmul(activation_second, weight_third) + bias_third)\n",
    "\n",
    "weights_output = tf.Variable(tf.truncated_normal([third_layer_size, 161], stddev=0.3, dtype=tf.float32))\n",
    "bias_output = tf.Variable(tf.constant(0, shape=[161], dtype=tf.float32))\n"
   ],
   "metadata": {
    "collapsed": false,
    "pycharm": {
     "name": "#%%\n"
    }
   }
  },
  {
   "cell_type": "code",
   "execution_count": null,
   "outputs": [],
   "source": [
    "#creating prediction, training and cross-entropy methods\n",
    "pred = tf.nn.softmax(tf.matmul(activation_third, weights_output) + bias_output)\n",
    "loss = -tf.reduce_sum(y * tf.log(tf.clip_by_value(pred, 1e-10, 1.0)))\n",
    "training_step = tf.train.AdamOptimizer(0.01).minimize(loss)"
   ],
   "metadata": {
    "collapsed": false,
    "pycharm": {
     "name": "#%%\n"
    }
   }
  },
  {
   "cell_type": "code",
   "execution_count": null,
   "outputs": [],
   "source": [
    "#setting session and starting to run\n",
    "training_sess = tf.Session()\n",
    "training_sess.run(tf.global_variables_initializer())"
   ],
   "metadata": {
    "collapsed": false,
    "pycharm": {
     "name": "#%%\n"
    }
   }
  },
  {
   "cell_type": "code",
   "execution_count": null,
   "outputs": [],
   "source": [
    "#setting function for correct prediction and accuracy\n",
    "correct = tf.equal(tf.argmax(pred, 1), tf.argmax(y, 1))\n",
    "accuracy = tf.reduce_mean(tf.cast(correct, tf.float32))"
   ],
   "metadata": {
    "collapsed": false,
    "pycharm": {
     "name": "#%%\n"
    }
   }
  },
  {
   "cell_type": "code",
   "execution_count": null,
   "outputs": [],
   "source": [
    "#training loop:\n",
    "saver = tf.train.Saver()\n",
    "epochs = 10001\n",
    "batch_size = 389\n",
    "iterations = int((x_train.shape[0]) / batch_size)\n",
    "maxAccuracy = 0\n",
    "for epoch in range(epochs):\n",
    "    ptr = 0\n",
    "    for iteration in range(iterations):\n",
    "        batch_input = x_train[ptr:ptr + batch_size]\n",
    "        batch_label = y_train[ptr:ptr + batch_size]\n",
    "        ptr = (ptr + batch_size) % x_train.shape[0]\n",
    "        _, err = training_sess.run([training_step, loss], feed_dict={x: batch_input, y: batch_label})\n",
    "    if epoch % 1000 == 0:\n",
    "        currAccuracy = training_sess.run(accuracy, feed_dict={x: x_train, y: y_train})\n",
    "        valid_accuracy = training_sess.run(accuracy, feed_dict={x: x_valid, y: y_valid})\n",
    "        if currAccuracy > maxAccuracy:\n",
    "            saver.save(training_sess, \"best_mlp_7_layers\", global_step=1)\n",
    "            maxAccuracy = currAccuracy\n",
    "        print(f\"epoch: {epoch} - accuracy for epoch {currAccuracy*100} - max accuracy: {maxAccuracy*100}\")\n",
    "        print(f\"validation set accuracy: {valid_accuracy*100}\")"
   ],
   "metadata": {
    "collapsed": false,
    "pycharm": {
     "name": "#%%\n"
    }
   }
  },
  {
   "cell_type": "code",
   "execution_count": null,
   "outputs": [],
   "source": [
    "x_train.shape"
   ],
   "metadata": {
    "collapsed": false,
    "pycharm": {
     "name": "#%%\n"
    }
   }
  },
  {
   "cell_type": "code",
   "execution_count": null,
   "outputs": [],
   "source": [
    "# test_accuracy = training_sess.run(accuracy, feed_dict={x: x_test, y: y_test})\n",
    "# print(test_accuracy)"
   ],
   "metadata": {
    "collapsed": false,
    "pycharm": {
     "name": "#%%\n"
    }
   }
  }
 ],
 "metadata": {
  "kernelspec": {
   "display_name": "Python 3",
   "language": "python",
   "name": "python3"
  },
  "language_info": {
   "codemirror_mode": {
    "name": "ipython",
    "version": 2
   },
   "file_extension": ".py",
   "mimetype": "text/x-python",
   "name": "python",
   "nbconvert_exporter": "python",
   "pygments_lexer": "ipython2",
   "version": "2.7.6"
  }
 },
 "nbformat": 4,
 "nbformat_minor": 0
}