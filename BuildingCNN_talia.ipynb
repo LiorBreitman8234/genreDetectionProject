{
 "cells": [
  {
   "cell_type": "code",
   "execution_count": 1,
   "id": "cc822e1a",
   "metadata": {},
   "outputs": [],
   "source": [
    "import numpy as np\n",
    "import pandas as pd\n",
    "import matplotlib.pyplot as plt\n",
    "from keras.layers import Dropout\n",
    "%matplotlib inline  \n",
    "import tensorflow as tf\n",
    "import warnings\n",
    "warnings.filterwarnings('ignore')\n",
    "from sklearn.preprocessing import OneHotEncoder\n",
    "from sklearn.model_selection import train_test_split\n",
    "from keras import layers, models"
   ]
  },
  {
   "cell_type": "code",
   "execution_count": 2,
   "id": "a145ad1c",
   "metadata": {},
   "outputs": [],
   "source": [
    "def prepareData():\n",
    "    allData = pd.read_csv(\"data/songs_with_genre.csv\", index_col=0,\n",
    "                          header=[0, 1, 2])\n",
    "    generes = allData[\"genre_id\"]\n",
    "    genres_index = pd.read_csv(\"data/genres_index.csv\", index_col=0)\n",
    "    allData.drop(columns=[\"genre_id\"], inplace=True)\n",
    "    data_x = allData\n",
    "    data_x.columns = range(data_x.shape[1])\n",
    "    #normalizing\n",
    "    mu = np.mean(data_x, axis=0)\n",
    "    sigma = (np.std(data_x, axis=0))\n",
    "    data_x = (data_x - mu) / sigma\n",
    "    #Creating the right lables\n",
    "    generes.columns = range(generes.shape[1])\n",
    "    targets = OneHotEncoder().fit_transform(genres_index).toarray()\n",
    "    generes[0] = generes[0] - 1\n",
    "    data_y = [targets[i - 1] for i in generes[0]]\n",
    "    generes[0] = data_y\n",
    "    \n",
    "    test = generes.copy()\n",
    "    test.rename(columns={0: \"oneHotVector\"}, inplace=True)\n",
    "    test.shape\n",
    "    split = pd.DataFrame(test[\"oneHotVector\"].to_list(), columns=range(161))\n",
    "    split.index = generes.index\n",
    "    generes = split\n",
    "    return data_x, generes"
   ]
  },
  {
   "cell_type": "code",
   "execution_count": 3,
   "id": "175f775e",
   "metadata": {},
   "outputs": [
    {
     "name": "stdout",
     "output_type": "stream",
     "text": [
      "(39678, 518)\n",
      "39678\n",
      "(4960, 518)\n",
      "4960\n",
      "(4960, 518)\n",
      "4960\n"
     ]
    },
    {
     "data": {
      "text/plain": "(None, None)"
     },
     "execution_count": 3,
     "metadata": {},
     "output_type": "execute_result"
    }
   ],
   "source": [
    "data_x, labels = prepareData()\n",
    "x_train, x_rest, y_train, y_rest = train_test_split(data_x, labels, train_size=0.8)\n",
    "x_test, x_valid, y_test, y_valid = train_test_split(x_rest, y_rest, train_size=0.5)\n",
    "print(x_train.shape), print(len(y_train))\n",
    "print(x_valid.shape), print(len(y_valid))\n",
    "print(x_test.shape), print(len(y_test))"
   ]
  },
  {
   "cell_type": "code",
   "execution_count": 14,
   "id": "69033307",
   "metadata": {},
   "outputs": [
    {
     "ename": "ValueError",
     "evalue": "One of the dimensions in the output is <= 0 due to downsampling in conv2d_18. Consider increasing the input size. Received input shape [None, 518, 1, 64] which would produce output shape with a zero or negative value in a dimension.",
     "output_type": "error",
     "traceback": [
      "\u001B[1;31m---------------------------------------------------------------------------\u001B[0m",
      "\u001B[1;31mValueError\u001B[0m                                Traceback (most recent call last)",
      "Cell \u001B[1;32mIn[14], line 6\u001B[0m\n\u001B[0;32m      3\u001B[0m CNN\u001B[38;5;241m.\u001B[39madd(layers\u001B[38;5;241m.\u001B[39mConv2D(filters\u001B[38;5;241m=\u001B[39m\u001B[38;5;241m64\u001B[39m, kernel_size\u001B[38;5;241m=\u001B[39m(\u001B[38;5;241m5\u001B[39m, \u001B[38;5;241m5\u001B[39m), activation\u001B[38;5;241m=\u001B[39m\u001B[38;5;124m'\u001B[39m\u001B[38;5;124mrelu\u001B[39m\u001B[38;5;124m'\u001B[39m,\n\u001B[0;32m      4\u001B[0m                       input_shape\u001B[38;5;241m=\u001B[39m(n_features, \u001B[38;5;241m1\u001B[39m, \u001B[38;5;241m1\u001B[39m), padding\u001B[38;5;241m=\u001B[39m\u001B[38;5;124m'\u001B[39m\u001B[38;5;124msame\u001B[39m\u001B[38;5;124m'\u001B[39m))\n\u001B[0;32m      5\u001B[0m \u001B[38;5;66;03m# CNN.add(layers.MaxPooling2D(pool_size=(2, 2)))\u001B[39;00m\n\u001B[1;32m----> 6\u001B[0m \u001B[43mCNN\u001B[49m\u001B[38;5;241;43m.\u001B[39;49m\u001B[43madd\u001B[49m\u001B[43m(\u001B[49m\u001B[43mlayers\u001B[49m\u001B[38;5;241;43m.\u001B[39;49m\u001B[43mConv2D\u001B[49m\u001B[43m(\u001B[49m\u001B[43mfilters\u001B[49m\u001B[38;5;241;43m=\u001B[39;49m\u001B[38;5;241;43m64\u001B[39;49m\u001B[43m,\u001B[49m\u001B[43m \u001B[49m\u001B[43mkernel_size\u001B[49m\u001B[38;5;241;43m=\u001B[39;49m\u001B[43m(\u001B[49m\u001B[38;5;241;43m5\u001B[39;49m\u001B[43m,\u001B[49m\u001B[43m \u001B[49m\u001B[38;5;241;43m5\u001B[39;49m\u001B[43m)\u001B[49m\u001B[43m,\u001B[49m\u001B[43m \u001B[49m\u001B[43mactivation\u001B[49m\u001B[38;5;241;43m=\u001B[39;49m\u001B[38;5;124;43m'\u001B[39;49m\u001B[38;5;124;43mrelu\u001B[39;49m\u001B[38;5;124;43m'\u001B[39;49m\u001B[43m)\u001B[49m\u001B[43m)\u001B[49m\n\u001B[0;32m      7\u001B[0m \u001B[38;5;66;03m# CNN.add(layers.Dropout(0.4))\u001B[39;00m\n\u001B[0;32m      8\u001B[0m \u001B[38;5;66;03m# CNN.add(layers.MaxPooling2D(pool_size=(2, 2)))\u001B[39;00m\n\u001B[0;32m      9\u001B[0m CNN\u001B[38;5;241m.\u001B[39madd(layers\u001B[38;5;241m.\u001B[39mConv2D(filters\u001B[38;5;241m=\u001B[39m\u001B[38;5;241m128\u001B[39m, kernel_size\u001B[38;5;241m=\u001B[39m(\u001B[38;5;241m7\u001B[39m, \u001B[38;5;241m7\u001B[39m), activation\u001B[38;5;241m=\u001B[39m\u001B[38;5;124m'\u001B[39m\u001B[38;5;124mrelu\u001B[39m\u001B[38;5;124m'\u001B[39m))\n",
      "File \u001B[1;32mc:\\users\\talia\\pycharmprojects\\nlp\\venv\\lib\\site-packages\\tensorflow\\python\\trackable\\base.py:205\u001B[0m, in \u001B[0;36mno_automatic_dependency_tracking.<locals>._method_wrapper\u001B[1;34m(self, *args, **kwargs)\u001B[0m\n\u001B[0;32m    203\u001B[0m \u001B[38;5;28mself\u001B[39m\u001B[38;5;241m.\u001B[39m_self_setattr_tracking \u001B[38;5;241m=\u001B[39m \u001B[38;5;28;01mFalse\u001B[39;00m  \u001B[38;5;66;03m# pylint: disable=protected-access\u001B[39;00m\n\u001B[0;32m    204\u001B[0m \u001B[38;5;28;01mtry\u001B[39;00m:\n\u001B[1;32m--> 205\u001B[0m   result \u001B[38;5;241m=\u001B[39m method(\u001B[38;5;28mself\u001B[39m, \u001B[38;5;241m*\u001B[39margs, \u001B[38;5;241m*\u001B[39m\u001B[38;5;241m*\u001B[39mkwargs)\n\u001B[0;32m    206\u001B[0m \u001B[38;5;28;01mfinally\u001B[39;00m:\n\u001B[0;32m    207\u001B[0m   \u001B[38;5;28mself\u001B[39m\u001B[38;5;241m.\u001B[39m_self_setattr_tracking \u001B[38;5;241m=\u001B[39m previous_value  \u001B[38;5;66;03m# pylint: disable=protected-access\u001B[39;00m\n",
      "File \u001B[1;32mc:\\users\\talia\\pycharmprojects\\nlp\\venv\\lib\\site-packages\\keras\\utils\\traceback_utils.py:70\u001B[0m, in \u001B[0;36mfilter_traceback.<locals>.error_handler\u001B[1;34m(*args, **kwargs)\u001B[0m\n\u001B[0;32m     67\u001B[0m     filtered_tb \u001B[38;5;241m=\u001B[39m _process_traceback_frames(e\u001B[38;5;241m.\u001B[39m__traceback__)\n\u001B[0;32m     68\u001B[0m     \u001B[38;5;66;03m# To get the full stack trace, call:\u001B[39;00m\n\u001B[0;32m     69\u001B[0m     \u001B[38;5;66;03m# `tf.debugging.disable_traceback_filtering()`\u001B[39;00m\n\u001B[1;32m---> 70\u001B[0m     \u001B[38;5;28;01mraise\u001B[39;00m e\u001B[38;5;241m.\u001B[39mwith_traceback(filtered_tb) \u001B[38;5;28;01mfrom\u001B[39;00m \u001B[38;5;28mNone\u001B[39m\n\u001B[0;32m     71\u001B[0m \u001B[38;5;28;01mfinally\u001B[39;00m:\n\u001B[0;32m     72\u001B[0m     \u001B[38;5;28;01mdel\u001B[39;00m filtered_tb\n",
      "File \u001B[1;32mc:\\users\\talia\\pycharmprojects\\nlp\\venv\\lib\\site-packages\\keras\\layers\\convolutional\\base_conv.py:347\u001B[0m, in \u001B[0;36mConv.compute_output_shape\u001B[1;34m(self, input_shape)\u001B[0m\n\u001B[0;32m    340\u001B[0m         \u001B[38;5;28;01mreturn\u001B[39;00m tf\u001B[38;5;241m.\u001B[39mTensorShape(\n\u001B[0;32m    341\u001B[0m             input_shape[:batch_rank]\n\u001B[0;32m    342\u001B[0m             \u001B[38;5;241m+\u001B[39m [\u001B[38;5;28mself\u001B[39m\u001B[38;5;241m.\u001B[39mfilters]\n\u001B[0;32m    343\u001B[0m             \u001B[38;5;241m+\u001B[39m \u001B[38;5;28mself\u001B[39m\u001B[38;5;241m.\u001B[39m_spatial_output_shape(input_shape[batch_rank \u001B[38;5;241m+\u001B[39m \u001B[38;5;241m1\u001B[39m :])\n\u001B[0;32m    344\u001B[0m         )\n\u001B[0;32m    346\u001B[0m \u001B[38;5;28;01mexcept\u001B[39;00m \u001B[38;5;167;01mValueError\u001B[39;00m:\n\u001B[1;32m--> 347\u001B[0m     \u001B[38;5;28;01mraise\u001B[39;00m \u001B[38;5;167;01mValueError\u001B[39;00m(\n\u001B[0;32m    348\u001B[0m         \u001B[38;5;124m\"\u001B[39m\u001B[38;5;124mOne of the dimensions in the output is <= 0 \u001B[39m\u001B[38;5;124m\"\u001B[39m\n\u001B[0;32m    349\u001B[0m         \u001B[38;5;124mf\u001B[39m\u001B[38;5;124m\"\u001B[39m\u001B[38;5;124mdue to downsampling in \u001B[39m\u001B[38;5;132;01m{\u001B[39;00m\u001B[38;5;28mself\u001B[39m\u001B[38;5;241m.\u001B[39mname\u001B[38;5;132;01m}\u001B[39;00m\u001B[38;5;124m. Consider \u001B[39m\u001B[38;5;124m\"\u001B[39m\n\u001B[0;32m    350\u001B[0m         \u001B[38;5;124m\"\u001B[39m\u001B[38;5;124mincreasing the input size. \u001B[39m\u001B[38;5;124m\"\u001B[39m\n\u001B[0;32m    351\u001B[0m         \u001B[38;5;124mf\u001B[39m\u001B[38;5;124m\"\u001B[39m\u001B[38;5;124mReceived input shape \u001B[39m\u001B[38;5;132;01m{\u001B[39;00minput_shape\u001B[38;5;132;01m}\u001B[39;00m\u001B[38;5;124m which would produce \u001B[39m\u001B[38;5;124m\"\u001B[39m\n\u001B[0;32m    352\u001B[0m         \u001B[38;5;124m\"\u001B[39m\u001B[38;5;124moutput shape with a zero or negative value in a \u001B[39m\u001B[38;5;124m\"\u001B[39m\n\u001B[0;32m    353\u001B[0m         \u001B[38;5;124m\"\u001B[39m\u001B[38;5;124mdimension.\u001B[39m\u001B[38;5;124m\"\u001B[39m\n\u001B[0;32m    354\u001B[0m     )\n",
      "\u001B[1;31mValueError\u001B[0m: One of the dimensions in the output is <= 0 due to downsampling in conv2d_18. Consider increasing the input size. Received input shape [None, 518, 1, 64] which would produce output shape with a zero or negative value in a dimension."
     ]
    }
   ],
   "source": [
    "n_features, n_outputs = x_train.shape[1], y_train.shape[1]\n",
    "CNN = models.Sequential()\n",
    "CNN.add(layers.Conv1D(filters=32, kernel_size=5, activation='relu',\n",
    "                      input_shape=(n_features, 1), padding='same'))\n",
    "CNN.add(layers.MaxPooling1D(pool_size=4))\n",
    "CNN.add(layers.Conv1D(filters=64, kernel_size=7, activation='relu'))\n",
    "# CNN.add(layers.Dropout(0.4))\n",
    "CNN.add(layers.MaxPooling1D(pool_size=4))\n",
    "CNN.add(layers.Conv1D(filters=128, kernel_size=7, activation='relu'))\n",
    "CNN.add(layers.Dropout(0.7))\n",
    "CNN.add(layers.MaxPooling1D(pool_size=2))\n",
    "CNN.add(layers.Flatten())\n",
    "CNN.add(layers.Dense(100, activation='relu'))\n",
    "CNN.add(layers.Dense(n_outputs, activation='softmax'))"
   ]
  },
  {
   "cell_type": "code",
   "execution_count": null,
   "id": "619c9186",
   "metadata": {},
   "outputs": [],
   "source": [
    "CNN.summary()"
   ]
  },
  {
   "cell_type": "code",
   "execution_count": null,
   "id": "23bebc85",
   "metadata": {},
   "outputs": [],
   "source": [
    "CNN.compile(optimizer='adam',\n",
    "              loss='categorical_crossentropy',\n",
    "              metrics=['accuracy'])"
   ]
  },
  {
   "cell_type": "code",
   "execution_count": null,
   "id": "805b4a2f",
   "metadata": {},
   "outputs": [],
   "source": [
    "# training = CNN.fit(x_train, y_train,epochs=10, batch_size=102)\n",
    "training = CNN.fit(x_train, y_train, epochs=30, validation_data=(x_valid,y_valid), batch_size=389)\n"
   ]
  },
  {
   "cell_type": "code",
   "execution_count": null,
   "id": "0fb80ced",
   "metadata": {},
   "outputs": [],
   "source": [
    "_, accuracy = CNN.evaluate(x_valid, y_valid, verbose=0)\n",
    "print(accuracy)"
   ]
  },
  {
   "cell_type": "code",
   "execution_count": null,
   "id": "e07c6a38",
   "metadata": {},
   "outputs": [],
   "source": []
  },
  {
   "cell_type": "code",
   "execution_count": null,
   "outputs": [],
   "source": [],
   "metadata": {
    "collapsed": false,
    "pycharm": {
     "name": "#%%\n"
    }
   }
  }
 ],
 "metadata": {
  "kernelspec": {
   "display_name": "Python 3 (ipykernel)",
   "language": "python",
   "name": "python3"
  },
  "language_info": {
   "codemirror_mode": {
    "name": "ipython",
    "version": 3
   },
   "file_extension": ".py",
   "mimetype": "text/x-python",
   "name": "python",
   "nbconvert_exporter": "python",
   "pygments_lexer": "ipython3",
   "version": "3.9.15"
  }
 },
 "nbformat": 4,
 "nbformat_minor": 5
}