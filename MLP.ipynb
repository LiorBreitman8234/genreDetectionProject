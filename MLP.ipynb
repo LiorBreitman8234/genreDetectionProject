{
 "cells": [
  {
   "cell_type": "code",
   "execution_count": 1,
   "metadata": {
    "collapsed": true
   },
   "outputs": [
    {
     "name": "stdout",
     "output_type": "stream",
     "text": [
      "WARNING:tensorflow:From c:\\users\\talia\\pycharmprojects\\nlp\\venv\\lib\\site-packages\\tensorflow\\python\\compat\\v2_compat.py:107: disable_resource_variables (from tensorflow.python.ops.variable_scope) is deprecated and will be removed in a future version.\n",
      "Instructions for updating:\n",
      "non-resource variables are not supported in the long term\n"
     ]
    }
   ],
   "source": [
    "import tensorflow.compat.v1 as tf\n",
    "tf.disable_v2_behavior()\n",
    "import numpy as np"
   ]
  },
  {
   "cell_type": "code",
   "execution_count": 2,
   "outputs": [],
   "source": [
    "features = 2\n",
    "hidden_layer_nodes = 10\n",
    "x = tf.placeholder(tf.float32, [None, features])\n",
    "y_ = tf.placeholder(tf.float32, [None, 1])"
   ],
   "metadata": {
    "collapsed": false,
    "pycharm": {
     "name": "#%%\n"
    }
   }
  },
  {
   "cell_type": "code",
   "execution_count": 3,
   "outputs": [],
   "source": [
    "# First layer\n",
    "w1 = tf.Variable(tf.truncated_normal([features, hidden_layer_nodes], stddev=0.1))\n",
    "b1 = tf.Variable(tf.constant(0.1, shape=[hidden_layer_nodes]))\n",
    "z1 = tf.add(tf.matmul(x, w1), b1)\n",
    "a1 = tf.nn.relu(z1)"
   ],
   "metadata": {
    "collapsed": false,
    "pycharm": {
     "name": "#%%\n"
    }
   }
  },
  {
   "cell_type": "code",
   "execution_count": 4,
   "outputs": [],
   "source": [
    "# Second layer\n",
    "w2 = tf.Variable(tf.truncated_normal([hidden_layer_nodes, 1], stddev=0.1))\n",
    "b2 = tf.Variable(0.)\n",
    "z2 = tf.matmul(a1, w2) + b1\n",
    "y = 1 / (1.0 + tf.exp(-z2))"
   ],
   "metadata": {
    "collapsed": false,
    "pycharm": {
     "name": "#%%\n"
    }
   }
  },
  {
   "cell_type": "code",
   "execution_count": 5,
   "outputs": [],
   "source": [
    "loss = tf.reduce_mean(-(y_ * tf.log(y) + (1-y_) * tf.log(1-y)))\n",
    "update = tf.train.GradientDescentOptimizer(0.0001).minimize(loss)"
   ],
   "metadata": {
    "collapsed": false,
    "pycharm": {
     "name": "#%%\n"
    }
   }
  },
  {
   "cell_type": "code",
   "execution_count": 6,
   "outputs": [],
   "source": [
    "data_x = np.array([[2,32],[25,1.2],[5,25.2],[23,2],[56,8.5],[60,60],[3,3],[46,53],[3.5,2]])\n",
    "data_y = np.array([[1],[1],[1],[1],[1],[0],[0],[0],[0]])"
   ],
   "metadata": {
    "collapsed": false,
    "pycharm": {
     "name": "#%%\n"
    }
   }
  },
  {
   "cell_type": "code",
   "execution_count": 8,
   "outputs": [],
   "source": [
    "sess = tf.Session()\n",
    "sess.run(tf.global_variables_initializer())\n",
    "for i in range(0, 50000):\n",
    "    sess.run(update, feed_dict={x:data_x, y_:data_y})"
   ],
   "metadata": {
    "collapsed": false,
    "pycharm": {
     "name": "#%%\n"
    }
   }
  },
  {
   "cell_type": "code",
   "execution_count": 10,
   "outputs": [
    {
     "name": "stdout",
     "output_type": "stream",
     "text": [
      "prediction:  [[7.2251022e-02 7.6778337e-02 7.5529985e-02 7.2367534e-02 6.3305527e-02\n",
      "  7.4190401e-02 6.8714432e-02 7.4741006e-02 7.0133932e-02 7.6267242e-02]\n",
      " [9.9595106e-01 9.9620748e-01 9.9613982e-01 9.9595803e-01 9.9533725e-01\n",
      "  9.9606472e-01 9.9572742e-01 9.9609596e-01 9.9581981e-01 9.9618006e-01]\n",
      " [9.9655259e-01 9.9677092e-01 9.9671340e-01 9.9655849e-01 9.9602962e-01\n",
      "  9.9664944e-01 9.9636203e-01 9.9667597e-01 9.9644083e-01 9.9674761e-01]\n",
      " [4.4374260e-01 4.6000606e-01 4.5560166e-01 4.4417146e-01 4.0908331e-01\n",
      "  4.5080829e-01 4.3045905e-01 4.5278695e-01 4.3585414e-01 4.5820999e-01]\n",
      " [1.2899064e-04 1.3774431e-04 1.3532206e-04 1.2921494e-04 1.1194274e-04\n",
      "  1.3272997e-04 1.2221164e-04 1.3379444e-04 1.2492646e-04 1.3675178e-04]]\n"
     ]
    }
   ],
   "source": [
    "# Results\n",
    "print('prediction: '\n",
    "      ,y.eval(session=sess, feed_dict={x:[[13,12],[0,33],[40,3],[1,1],[50,50]]}))"
   ],
   "metadata": {
    "collapsed": false,
    "pycharm": {
     "name": "#%%\n"
    }
   }
  },
  {
   "cell_type": "code",
   "execution_count": null,
   "outputs": [],
   "source": [],
   "metadata": {
    "collapsed": false,
    "pycharm": {
     "name": "#%%\n"
    }
   }
  }
 ],
 "metadata": {
  "kernelspec": {
   "display_name": "Python 3",
   "language": "python",
   "name": "python3"
  },
  "language_info": {
   "codemirror_mode": {
    "name": "ipython",
    "version": 2
   },
   "file_extension": ".py",
   "mimetype": "text/x-python",
   "name": "python",
   "nbconvert_exporter": "python",
   "pygments_lexer": "ipython2",
   "version": "2.7.6"
  }
 },
 "nbformat": 4,
 "nbformat_minor": 0
}