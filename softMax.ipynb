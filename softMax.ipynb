{
 "cells": [
  {
   "cell_type": "code",
   "execution_count": 20,
   "metadata": {
    "pycharm": {
     "name": "#%%\n"
    }
   },
   "outputs": [],
   "source": [
    "import tensorflow.compat.v1 as tf\n",
    "tf.disable_v2_behavior()\n",
    "import pandas as pd\n",
    "from sklearn.preprocessing import OneHotEncoder\n",
    "import numpy as np"
   ]
  },
  {
   "cell_type": "code",
   "execution_count": 21,
   "metadata": {
    "pycharm": {
     "name": "#%%\n"
    }
   },
   "outputs": [
    {
     "data": {
      "text/plain": "feature    chroma_cens                                                    \\\nstatistics    kurtosis                                                     \nnumber              01        02        03        04        05        06   \ntrack_id                                                                   \n2             7.180653  5.230309  0.249321  1.347620  1.482478  0.531371   \n3             1.888963  0.760539  0.345297  2.295201  1.654031  0.067592   \n5             0.527563 -0.077654 -0.279610  0.685883  1.937570  0.880839   \n10            3.702245 -0.291193  2.196742 -0.234449  1.367364  0.998411   \n134           0.918445  0.674147  0.577818  1.281117  0.933746  0.078177   \n\nfeature                                             ...   tonnetz            \\\nstatistics                                          ...       std             \nnumber            07        08        09        10  ...        05        06   \ntrack_id                                            ...                       \n2           1.481593  2.691455  0.866868  1.341231  ...  0.012226  0.012111   \n3           1.366848  1.054094  0.108103  0.619185  ...  0.014212  0.017740   \n5          -0.923192 -0.927232  0.666617  1.038546  ...  0.012691  0.014759   \n10          1.770694  1.604566  0.521217  1.982386  ...  0.017952  0.013921   \n134         1.199204 -0.175223  0.925482  1.438509  ...  0.016322  0.015819   \n\nfeature           zcr                                                         \\\nstatistics   kurtosis       max      mean    median  min      skew       std   \nnumber             01        01        01        01   01        01        01   \ntrack_id                                                                       \n2            5.758890  0.459473  0.085629  0.071289  0.0  2.089872  0.061448   \n3            2.824694  0.466309  0.084578  0.063965  0.0  1.716724  0.069330   \n5            6.808415  0.375000  0.053114  0.041504  0.0  2.193303  0.044861   \n10          21.434212  0.452148  0.077515  0.071777  0.0  3.542325  0.040800   \n134          4.731087  0.419434  0.064370  0.050781  0.0  1.806106  0.054623   \n\nfeature                genre_id  \nstatistics Unnamed: 519_level_1  \nnumber     Unnamed: 519_level_2  \ntrack_id                         \n2                            20  \n3                            20  \n5                            20  \n10                            9  \n134                          20  \n\n[5 rows x 519 columns]",
      "text/html": "<div>\n<style scoped>\n    .dataframe tbody tr th:only-of-type {\n        vertical-align: middle;\n    }\n\n    .dataframe tbody tr th {\n        vertical-align: top;\n    }\n\n    .dataframe thead tr th {\n        text-align: left;\n    }\n\n    .dataframe thead tr:last-of-type th {\n        text-align: right;\n    }\n</style>\n<table border=\"1\" class=\"dataframe\">\n  <thead>\n    <tr>\n      <th>feature</th>\n      <th colspan=\"10\" halign=\"left\">chroma_cens</th>\n      <th>...</th>\n      <th colspan=\"2\" halign=\"left\">tonnetz</th>\n      <th colspan=\"7\" halign=\"left\">zcr</th>\n      <th>genre_id</th>\n    </tr>\n    <tr>\n      <th>statistics</th>\n      <th colspan=\"10\" halign=\"left\">kurtosis</th>\n      <th>...</th>\n      <th colspan=\"2\" halign=\"left\">std</th>\n      <th>kurtosis</th>\n      <th>max</th>\n      <th>mean</th>\n      <th>median</th>\n      <th>min</th>\n      <th>skew</th>\n      <th>std</th>\n      <th>Unnamed: 519_level_1</th>\n    </tr>\n    <tr>\n      <th>number</th>\n      <th>01</th>\n      <th>02</th>\n      <th>03</th>\n      <th>04</th>\n      <th>05</th>\n      <th>06</th>\n      <th>07</th>\n      <th>08</th>\n      <th>09</th>\n      <th>10</th>\n      <th>...</th>\n      <th>05</th>\n      <th>06</th>\n      <th>01</th>\n      <th>01</th>\n      <th>01</th>\n      <th>01</th>\n      <th>01</th>\n      <th>01</th>\n      <th>01</th>\n      <th>Unnamed: 519_level_2</th>\n    </tr>\n    <tr>\n      <th>track_id</th>\n      <th></th>\n      <th></th>\n      <th></th>\n      <th></th>\n      <th></th>\n      <th></th>\n      <th></th>\n      <th></th>\n      <th></th>\n      <th></th>\n      <th></th>\n      <th></th>\n      <th></th>\n      <th></th>\n      <th></th>\n      <th></th>\n      <th></th>\n      <th></th>\n      <th></th>\n      <th></th>\n      <th></th>\n    </tr>\n  </thead>\n  <tbody>\n    <tr>\n      <th>2</th>\n      <td>7.180653</td>\n      <td>5.230309</td>\n      <td>0.249321</td>\n      <td>1.347620</td>\n      <td>1.482478</td>\n      <td>0.531371</td>\n      <td>1.481593</td>\n      <td>2.691455</td>\n      <td>0.866868</td>\n      <td>1.341231</td>\n      <td>...</td>\n      <td>0.012226</td>\n      <td>0.012111</td>\n      <td>5.758890</td>\n      <td>0.459473</td>\n      <td>0.085629</td>\n      <td>0.071289</td>\n      <td>0.0</td>\n      <td>2.089872</td>\n      <td>0.061448</td>\n      <td>20</td>\n    </tr>\n    <tr>\n      <th>3</th>\n      <td>1.888963</td>\n      <td>0.760539</td>\n      <td>0.345297</td>\n      <td>2.295201</td>\n      <td>1.654031</td>\n      <td>0.067592</td>\n      <td>1.366848</td>\n      <td>1.054094</td>\n      <td>0.108103</td>\n      <td>0.619185</td>\n      <td>...</td>\n      <td>0.014212</td>\n      <td>0.017740</td>\n      <td>2.824694</td>\n      <td>0.466309</td>\n      <td>0.084578</td>\n      <td>0.063965</td>\n      <td>0.0</td>\n      <td>1.716724</td>\n      <td>0.069330</td>\n      <td>20</td>\n    </tr>\n    <tr>\n      <th>5</th>\n      <td>0.527563</td>\n      <td>-0.077654</td>\n      <td>-0.279610</td>\n      <td>0.685883</td>\n      <td>1.937570</td>\n      <td>0.880839</td>\n      <td>-0.923192</td>\n      <td>-0.927232</td>\n      <td>0.666617</td>\n      <td>1.038546</td>\n      <td>...</td>\n      <td>0.012691</td>\n      <td>0.014759</td>\n      <td>6.808415</td>\n      <td>0.375000</td>\n      <td>0.053114</td>\n      <td>0.041504</td>\n      <td>0.0</td>\n      <td>2.193303</td>\n      <td>0.044861</td>\n      <td>20</td>\n    </tr>\n    <tr>\n      <th>10</th>\n      <td>3.702245</td>\n      <td>-0.291193</td>\n      <td>2.196742</td>\n      <td>-0.234449</td>\n      <td>1.367364</td>\n      <td>0.998411</td>\n      <td>1.770694</td>\n      <td>1.604566</td>\n      <td>0.521217</td>\n      <td>1.982386</td>\n      <td>...</td>\n      <td>0.017952</td>\n      <td>0.013921</td>\n      <td>21.434212</td>\n      <td>0.452148</td>\n      <td>0.077515</td>\n      <td>0.071777</td>\n      <td>0.0</td>\n      <td>3.542325</td>\n      <td>0.040800</td>\n      <td>9</td>\n    </tr>\n    <tr>\n      <th>134</th>\n      <td>0.918445</td>\n      <td>0.674147</td>\n      <td>0.577818</td>\n      <td>1.281117</td>\n      <td>0.933746</td>\n      <td>0.078177</td>\n      <td>1.199204</td>\n      <td>-0.175223</td>\n      <td>0.925482</td>\n      <td>1.438509</td>\n      <td>...</td>\n      <td>0.016322</td>\n      <td>0.015819</td>\n      <td>4.731087</td>\n      <td>0.419434</td>\n      <td>0.064370</td>\n      <td>0.050781</td>\n      <td>0.0</td>\n      <td>1.806106</td>\n      <td>0.054623</td>\n      <td>20</td>\n    </tr>\n  </tbody>\n</table>\n<p>5 rows × 519 columns</p>\n</div>"
     },
     "execution_count": 21,
     "metadata": {},
     "output_type": "execute_result"
    }
   ],
   "source": [
    "# data\n",
    "data = pd.read_csv(\"data/songs_with_genre.csv\",index_col=0,header=[0,1,2])\n",
    "data.head()"
   ]
  },
  {
   "cell_type": "code",
   "execution_count": 22,
   "metadata": {},
   "outputs": [
    {
     "data": {
      "text/plain": "MultiIndex([('chroma_cens',             'kurtosis',                   '01'),\n            ('chroma_cens',             'kurtosis',                   '02'),\n            ('chroma_cens',             'kurtosis',                   '03'),\n            ('chroma_cens',             'kurtosis',                   '04'),\n            ('chroma_cens',             'kurtosis',                   '05'),\n            ('chroma_cens',             'kurtosis',                   '06'),\n            ('chroma_cens',             'kurtosis',                   '07'),\n            ('chroma_cens',             'kurtosis',                   '08'),\n            ('chroma_cens',             'kurtosis',                   '09'),\n            ('chroma_cens',             'kurtosis',                   '10'),\n            ...\n            (    'tonnetz',                  'std',                   '05'),\n            (    'tonnetz',                  'std',                   '06'),\n            (        'zcr',             'kurtosis',                   '01'),\n            (        'zcr',                  'max',                   '01'),\n            (        'zcr',                 'mean',                   '01'),\n            (        'zcr',               'median',                   '01'),\n            (        'zcr',                  'min',                   '01'),\n            (        'zcr',                 'skew',                   '01'),\n            (        'zcr',                  'std',                   '01'),\n            (   'genre_id', 'Unnamed: 519_level_1', 'Unnamed: 519_level_2')],\n           names=['feature', 'statistics', 'number'], length=519)"
     },
     "execution_count": 22,
     "metadata": {},
     "output_type": "execute_result"
    }
   ],
   "source": [
    "data.columns"
   ]
  },
  {
   "cell_type": "code",
   "execution_count": 23,
   "metadata": {},
   "outputs": [
    {
     "data": {
      "text/plain": "feature                genre_id\nstatistics Unnamed: 519_level_1\nnumber     Unnamed: 519_level_2\ntrack_id                       \n2                            20\n3                            20\n5                            20\n10                            9\n134                          20\n...                         ...\n155315                       11\n155316                       11\n155317                       11\n155318                       11\n155319                       11\n\n[49598 rows x 1 columns]",
      "text/html": "<div>\n<style scoped>\n    .dataframe tbody tr th:only-of-type {\n        vertical-align: middle;\n    }\n\n    .dataframe tbody tr th {\n        vertical-align: top;\n    }\n\n    .dataframe thead tr th {\n        text-align: left;\n    }\n\n    .dataframe thead tr:last-of-type th {\n        text-align: right;\n    }\n</style>\n<table border=\"1\" class=\"dataframe\">\n  <thead>\n    <tr>\n      <th>feature</th>\n      <th>genre_id</th>\n    </tr>\n    <tr>\n      <th>statistics</th>\n      <th>Unnamed: 519_level_1</th>\n    </tr>\n    <tr>\n      <th>number</th>\n      <th>Unnamed: 519_level_2</th>\n    </tr>\n    <tr>\n      <th>track_id</th>\n      <th></th>\n    </tr>\n  </thead>\n  <tbody>\n    <tr>\n      <th>2</th>\n      <td>20</td>\n    </tr>\n    <tr>\n      <th>3</th>\n      <td>20</td>\n    </tr>\n    <tr>\n      <th>5</th>\n      <td>20</td>\n    </tr>\n    <tr>\n      <th>10</th>\n      <td>9</td>\n    </tr>\n    <tr>\n      <th>134</th>\n      <td>20</td>\n    </tr>\n    <tr>\n      <th>...</th>\n      <td>...</td>\n    </tr>\n    <tr>\n      <th>155315</th>\n      <td>11</td>\n    </tr>\n    <tr>\n      <th>155316</th>\n      <td>11</td>\n    </tr>\n    <tr>\n      <th>155317</th>\n      <td>11</td>\n    </tr>\n    <tr>\n      <th>155318</th>\n      <td>11</td>\n    </tr>\n    <tr>\n      <th>155319</th>\n      <td>11</td>\n    </tr>\n  </tbody>\n</table>\n<p>49598 rows × 1 columns</p>\n</div>"
     },
     "execution_count": 23,
     "metadata": {},
     "output_type": "execute_result"
    }
   ],
   "source": [
    "data.iloc[:,-1:]"
   ]
  },
  {
   "cell_type": "code",
   "execution_count": 24,
   "metadata": {
    "pycharm": {
     "name": "#%%\n"
    }
   },
   "outputs": [
    {
     "name": "stderr",
     "output_type": "stream",
     "text": [
      "C:\\Users\\talia\\AppData\\Local\\Temp\\ipykernel_10916\\2201985262.py:5: PerformanceWarning: dropping on a non-lexsorted multi-index without a level parameter may impact performance.\n",
      "  data.drop(columns=[\"genre_id\"], inplace=True)\n"
     ]
    }
   ],
   "source": [
    "# TODO check the data upload\n",
    "# targets\n",
    "generes = data[\"genre_id\"]\n",
    "# generes['genre_id']\n",
    "data.drop(columns=[\"genre_id\"], inplace=True)\n"
   ]
  },
  {
   "cell_type": "code",
   "execution_count": 25,
   "metadata": {},
   "outputs": [
    {
     "data": {
      "text/plain": "           0\ntrack_id    \n2         20\n3         20\n5         20\n10         9\n134       20\n...       ..\n155315    11\n155316    11\n155317    11\n155318    11\n155319    11\n\n[49598 rows x 1 columns]",
      "text/html": "<div>\n<style scoped>\n    .dataframe tbody tr th:only-of-type {\n        vertical-align: middle;\n    }\n\n    .dataframe tbody tr th {\n        vertical-align: top;\n    }\n\n    .dataframe thead th {\n        text-align: right;\n    }\n</style>\n<table border=\"1\" class=\"dataframe\">\n  <thead>\n    <tr style=\"text-align: right;\">\n      <th></th>\n      <th>0</th>\n    </tr>\n    <tr>\n      <th>track_id</th>\n      <th></th>\n    </tr>\n  </thead>\n  <tbody>\n    <tr>\n      <th>2</th>\n      <td>20</td>\n    </tr>\n    <tr>\n      <th>3</th>\n      <td>20</td>\n    </tr>\n    <tr>\n      <th>5</th>\n      <td>20</td>\n    </tr>\n    <tr>\n      <th>10</th>\n      <td>9</td>\n    </tr>\n    <tr>\n      <th>134</th>\n      <td>20</td>\n    </tr>\n    <tr>\n      <th>...</th>\n      <td>...</td>\n    </tr>\n    <tr>\n      <th>155315</th>\n      <td>11</td>\n    </tr>\n    <tr>\n      <th>155316</th>\n      <td>11</td>\n    </tr>\n    <tr>\n      <th>155317</th>\n      <td>11</td>\n    </tr>\n    <tr>\n      <th>155318</th>\n      <td>11</td>\n    </tr>\n    <tr>\n      <th>155319</th>\n      <td>11</td>\n    </tr>\n  </tbody>\n</table>\n<p>49598 rows × 1 columns</p>\n</div>"
     },
     "execution_count": 25,
     "metadata": {},
     "output_type": "execute_result"
    }
   ],
   "source": [
    "generes.columns = range(generes.shape[1])\n",
    "generes"
   ]
  },
  {
   "cell_type": "code",
   "execution_count": 26,
   "metadata": {},
   "outputs": [
    {
     "data": {
      "text/plain": "0    9\nName: 10, dtype: int64"
     },
     "execution_count": 26,
     "metadata": {},
     "output_type": "execute_result"
    }
   ],
   "source": [
    "generes.iloc[3]"
   ]
  },
  {
   "cell_type": "code",
   "execution_count": 27,
   "metadata": {
    "pycharm": {
     "name": "#%%\n"
    }
   },
   "outputs": [
    {
     "data": {
      "text/plain": "               genre_index\nAvant-Garde              0\nInternational            1\nBlues                    2\nJazz                     3\nClassical                4",
      "text/html": "<div>\n<style scoped>\n    .dataframe tbody tr th:only-of-type {\n        vertical-align: middle;\n    }\n\n    .dataframe tbody tr th {\n        vertical-align: top;\n    }\n\n    .dataframe thead th {\n        text-align: right;\n    }\n</style>\n<table border=\"1\" class=\"dataframe\">\n  <thead>\n    <tr style=\"text-align: right;\">\n      <th></th>\n      <th>genre_index</th>\n    </tr>\n  </thead>\n  <tbody>\n    <tr>\n      <th>Avant-Garde</th>\n      <td>0</td>\n    </tr>\n    <tr>\n      <th>International</th>\n      <td>1</td>\n    </tr>\n    <tr>\n      <th>Blues</th>\n      <td>2</td>\n    </tr>\n    <tr>\n      <th>Jazz</th>\n      <td>3</td>\n    </tr>\n    <tr>\n      <th>Classical</th>\n      <td>4</td>\n    </tr>\n  </tbody>\n</table>\n</div>"
     },
     "execution_count": 27,
     "metadata": {},
     "output_type": "execute_result"
    }
   ],
   "source": [
    "inx = pd.read_csv(\"data/genres_index.csv\", index_col=0)\n",
    "inx.head()"
   ]
  },
  {
   "cell_type": "code",
   "execution_count": 28,
   "metadata": {
    "pycharm": {
     "name": "#%%\n"
    }
   },
   "outputs": [],
   "source": [
    "vocabulary_size = 518\n",
    "categories = 161 # 161\n",
    "x = tf.placeholder(tf.float32, [None, vocabulary_size])\n",
    "y_ = tf.placeholder(tf.float32, [None, categories])\n",
    "W = tf.Variable(tf.zeros([vocabulary_size, categories]))\n",
    "b = tf.Variable(tf.zeros([categories]))\n",
    "\n",
    "z = tf.matmul(x, W) + b\n",
    "pred = tf.nn.softmax(z)\n",
    "# loss = -tf.reduce_mean(y_ * tf.log(pred))\n",
    "loss = tf.reduce_mean(tf.nn.softmax_cross_entropy_with_logits_v2(y_, z))\n",
    "\n",
    "update = tf.train.GradientDescentOptimizer(0.001).minimize(loss)"
   ]
  },
  {
   "cell_type": "code",
   "execution_count": 29,
   "metadata": {
    "pycharm": {
     "name": "#%%\n"
    }
   },
   "outputs": [
    {
     "name": "stdout",
     "output_type": "stream",
     "text": [
      "           0\n",
      "track_id    \n",
      "2         20\n",
      "3         20\n",
      "5         20\n",
      "10         9\n",
      "134       20\n",
      "...       ..\n",
      "155315    11\n",
      "155316    11\n",
      "155317    11\n",
      "155318    11\n",
      "155319    11\n",
      "\n",
      "[49598 rows x 1 columns]\n"
     ]
    }
   ],
   "source": [
    "data_x = data\n",
    "targets = OneHotEncoder().fit_transform(inx).toarray()\n",
    "print(generes)\n",
    "# print(data_x)"
   ]
  },
  {
   "cell_type": "code",
   "execution_count": 31,
   "metadata": {
    "pycharm": {
     "name": "#%%\n"
    }
   },
   "outputs": [
    {
     "data": {
      "text/plain": "161"
     },
     "execution_count": 31,
     "metadata": {},
     "output_type": "execute_result"
    }
   ],
   "source": [
    "# generes[0] = generes[0]-1\n",
    "data_y = [targets[i-1] for i in generes[0]]\n",
    "max(generes[0])"
   ]
  },
  {
   "cell_type": "code",
   "execution_count": 32,
   "metadata": {},
   "outputs": [
    {
     "data": {
      "text/plain": "49598"
     },
     "execution_count": 32,
     "metadata": {},
     "output_type": "execute_result"
    }
   ],
   "source": [
    "len(data_y)"
   ]
  },
  {
   "cell_type": "code",
   "execution_count": 33,
   "metadata": {
    "pycharm": {
     "name": "#%%\n"
    }
   },
   "outputs": [],
   "source": [
    "sess = tf.Session()\n",
    "sess.run(tf.global_variables_initializer())"
   ]
  },
  {
   "cell_type": "code",
   "execution_count": null,
   "metadata": {
    "pycharm": {
     "name": "#%%\n",
     "is_executing": true
    }
   },
   "outputs": [
    {
     "name": "stdout",
     "output_type": "stream",
     "text": [
      "Iteration: 0 \n",
      "  W: [[-2.5152043e-04 -4.1491175e-03 -3.0958096e-02 ... -1.5255613e-06\n",
      "  -1.5255613e-06 -1.2593262e-02]\n",
      " [-4.0646995e-04 -4.0604612e-03 -2.7882807e-02 ... -1.0587521e-06\n",
      "  -1.0587521e-06 -2.1317858e-02]\n",
      " [-4.0634794e-04 -4.1683270e-03 -3.4144361e-02 ... -1.7860207e-06\n",
      "  -1.7860207e-06 -1.6401822e-02]\n",
      " ...\n",
      " [-7.2946671e-07 -8.4994999e-06 -2.2806840e-05 ... -1.6539531e-08\n",
      "  -1.6539531e-08  6.5064174e-05]\n",
      " [ 8.5670117e-04  1.8589041e-03 -3.9042473e-02 ... -1.8797857e-05\n",
      "  -1.8797857e-05  1.7961362e-02]\n",
      " [ 3.6334402e-06 -3.7247944e-05 -7.8800993e-05 ... -2.4990246e-07\n",
      "  -2.4990246e-07 -5.5472923e-05]] \n",
      "  b: [ 1.4092025e-04  9.7951000e-05  1.1964153e-04 -6.2114200e-06\n",
      " -6.2114200e-06  5.5849401e-04 -3.5052415e-04  3.0473957e-04\n",
      " -6.2114200e-06 -2.0482439e-04  1.9794446e-04 -2.3995462e-04\n",
      " -8.0166792e-04 -6.2114200e-06 -9.0545291e-06 -6.2114200e-06\n",
      " -6.2114200e-06 -6.2230421e-05  7.3950278e-04 -6.2114200e-06\n",
      " -6.2114200e-06 -6.2114200e-06 -6.2114200e-06 -6.2114200e-06\n",
      " -6.2114200e-06 -6.2114200e-06 -6.2114200e-06 -6.2114200e-06\n",
      " -6.2114200e-06 -2.4438239e-04 -6.2114200e-06 -6.2114200e-06\n",
      " -6.2114200e-06 -6.2114200e-06 -6.2114200e-06 -6.2114200e-06\n",
      " -6.2114200e-06 -6.2114200e-06 -6.2114200e-06 -6.2114200e-06\n",
      " -6.2114200e-06 -6.2114200e-06 -6.2114200e-06 -6.2114200e-06\n",
      " -6.2114200e-06 -6.2114200e-06 -6.2114200e-06 -6.2114200e-06\n",
      " -6.2114200e-06 -6.2114200e-06 -6.2114200e-06 -6.2114200e-06\n",
      " -6.2114200e-06 -6.2114200e-06 -6.2114200e-06 -6.2114200e-06\n",
      " -6.2114200e-06 -6.2114200e-06 -6.2114200e-06 -6.2114200e-06\n",
      " -6.2114200e-06 -6.2114200e-06 -6.2114200e-06 -6.2114200e-06\n",
      " -6.2114200e-06 -6.2114200e-06 -6.2114200e-06 -6.2114200e-06\n",
      " -6.2114200e-06 -6.2114200e-06 -6.2114200e-06 -6.2114200e-06\n",
      " -6.2114200e-06 -6.2114200e-06 -6.2114200e-06 -6.2114200e-06\n",
      " -6.2114200e-06 -6.2114200e-06 -6.2114200e-06 -6.2114200e-06\n",
      " -6.2114200e-06 -6.2114200e-06 -6.2114200e-06 -6.2114200e-06\n",
      " -6.2114200e-06 -6.2114200e-06 -6.2114200e-06 -6.2114200e-06\n",
      " -6.2114200e-06 -6.2114200e-06 -6.2114200e-06 -6.2114200e-06\n",
      " -6.2114200e-06 -6.2114200e-06 -6.2114200e-06 -6.2114200e-06\n",
      " -6.2114200e-06 -6.2114200e-06 -6.2114200e-06 -6.2114200e-06\n",
      " -6.2114200e-06 -6.2114200e-06 -6.2114200e-06 -6.2114200e-06\n",
      " -6.2114200e-06 -6.2114200e-06 -6.2114200e-06 -6.2114200e-06\n",
      " -6.2114200e-06 -6.2114200e-06 -6.2114200e-06 -6.2114200e-06\n",
      " -6.2114200e-06 -6.2114200e-06 -6.2114200e-06 -6.2114200e-06\n",
      " -6.2114200e-06 -6.2114200e-06 -6.2114200e-06 -6.2114200e-06\n",
      " -6.2114200e-06 -6.2114200e-06 -6.2114200e-06 -6.2114200e-06\n",
      " -6.2114200e-06 -6.2114200e-06 -6.2114200e-06 -6.2114200e-06\n",
      " -6.2114200e-06 -6.2114200e-06 -6.2114200e-06 -6.2114200e-06\n",
      " -6.2114200e-06 -6.2114200e-06 -6.2114200e-06 -6.2114200e-06\n",
      " -6.2114200e-06 -6.2114200e-06 -6.2114200e-06 -6.2114200e-06\n",
      " -6.2114200e-06 -6.2114200e-06 -6.2114200e-06 -6.2114200e-06\n",
      " -6.2114200e-06 -6.2114200e-06 -6.2114200e-06 -6.2114200e-06\n",
      " -6.2114200e-06 -6.2114200e-06 -6.2114200e-06 -6.2114200e-06\n",
      " -6.2114200e-06 -6.2114200e-06 -6.2114200e-06 -6.2114200e-06\n",
      " -6.2114200e-06 -6.2114200e-06 -6.2114200e-06 -6.2114200e-06\n",
      "  6.7071914e-04] \n",
      " loss: 30407.686\n",
      "Iteration: 100 \n",
      "  W: [[-2.2931115e-04 -4.4062999e-03 -3.3335444e-02 ... -1.5255613e-06\n",
      "  -1.5255613e-06 -1.3462347e-02]\n",
      " [-4.0144933e-04 -4.3074945e-03 -3.0015545e-02 ... -1.0587521e-06\n",
      "  -1.0587521e-06 -2.2815119e-02]\n",
      " [-4.1089251e-04 -4.4435612e-03 -3.6837053e-02 ... -1.7860207e-06\n",
      "  -1.7860207e-06 -1.7535940e-02]\n",
      " ...\n",
      " [-5.5770266e-07 -8.4757594e-06 -2.3961247e-05 ... -1.6539531e-08\n",
      "  -1.6539531e-08  7.0224953e-05]\n",
      " [ 8.2204561e-04  1.9620571e-03 -4.1768849e-02 ... -1.8797857e-05\n",
      "  -1.8797857e-05  1.9525763e-02]\n",
      " [ 1.4923111e-06 -3.6258083e-05 -8.2364626e-05 ... -2.4990246e-07\n",
      "  -2.4990246e-07 -3.8871865e-05]] \n",
      "  b: [ 1.5002211e-04  1.4420296e-04  7.3104005e-05 -6.2114200e-06\n",
      " -6.2114200e-06  6.0135045e-04  4.0620478e-05  4.8497232e-04\n",
      " -6.2114200e-06 -2.6173110e-04  4.7463116e-05 -6.0363463e-04\n",
      " -8.0032367e-04 -6.2114200e-06 -1.0879476e-05 -6.2114200e-06\n",
      " -6.2114200e-06 -2.7255970e-05  1.0092190e-03 -6.2114200e-06\n",
      " -6.2114200e-06 -6.2114200e-06 -6.2114200e-06 -6.2114200e-06\n",
      " -6.2114200e-06 -6.2114200e-06 -6.2114200e-06 -6.2114200e-06\n",
      " -6.2114200e-06 -9.9164597e-04 -6.2114200e-06 -6.2114200e-06\n",
      " -6.2114200e-06 -6.2114200e-06 -6.2114200e-06 -6.2114200e-06\n",
      " -6.2114200e-06 -6.2114200e-06 -6.2114200e-06 -6.2114200e-06\n",
      " -6.2114200e-06 -6.2114200e-06 -6.2114200e-06 -6.2114200e-06\n",
      " -6.2114200e-06 -6.2114200e-06 -6.2114200e-06 -6.2114200e-06\n",
      " -6.2114200e-06 -6.2114200e-06 -6.2114200e-06 -6.2114200e-06\n",
      " -6.2114200e-06 -6.2114200e-06 -6.2114200e-06 -6.2114200e-06\n",
      " -6.2114200e-06 -6.2114200e-06 -6.2114200e-06 -6.2114200e-06\n",
      " -6.2114200e-06 -6.2114200e-06 -6.2114200e-06 -6.2114200e-06\n",
      " -6.2114200e-06 -6.2114200e-06 -6.2114200e-06 -6.2114200e-06\n",
      " -6.2114200e-06 -6.2114200e-06 -6.2114200e-06 -6.2114200e-06\n",
      " -6.2114200e-06 -6.2114200e-06 -6.2114200e-06 -6.2114200e-06\n",
      " -6.2114200e-06 -6.2114200e-06 -6.2114200e-06 -6.2114200e-06\n",
      " -6.2114200e-06 -6.2114200e-06 -6.2114200e-06 -6.2114200e-06\n",
      " -6.2114200e-06 -6.2114200e-06 -6.2114200e-06 -6.2114200e-06\n",
      " -6.2114200e-06 -6.2114200e-06 -6.2114200e-06 -6.2114200e-06\n",
      " -6.2114200e-06 -6.2114200e-06 -6.2114200e-06 -6.2114200e-06\n",
      " -6.2114200e-06 -6.2114200e-06 -6.2114200e-06 -6.2114200e-06\n",
      " -6.2114200e-06 -6.2114200e-06 -6.2114200e-06 -6.2114200e-06\n",
      " -6.2114200e-06 -6.2114200e-06 -6.2114200e-06 -6.2114200e-06\n",
      " -6.2114200e-06 -6.2114200e-06 -6.2114200e-06 -6.2114200e-06\n",
      " -6.2114200e-06 -6.2114200e-06 -6.2114200e-06 -6.2114200e-06\n",
      " -6.2114200e-06 -6.2114200e-06 -6.2114200e-06 -6.2114200e-06\n",
      " -6.2114200e-06 -6.2114200e-06 -6.2114200e-06 -6.2114200e-06\n",
      " -6.2114200e-06 -6.2114200e-06 -6.2114200e-06 -6.2114200e-06\n",
      " -6.2114200e-06 -6.2114200e-06 -6.2114200e-06 -6.2114200e-06\n",
      " -6.2114200e-06 -6.2114200e-06 -6.2114200e-06 -6.2114200e-06\n",
      " -6.2114200e-06 -6.2114200e-06 -6.2114200e-06 -6.2114200e-06\n",
      " -6.2114200e-06 -6.2114200e-06 -6.2114200e-06 -6.2114200e-06\n",
      " -6.2114200e-06 -6.2114200e-06 -6.2114200e-06 -6.2114200e-06\n",
      " -6.2114200e-06 -6.2114200e-06 -6.2114200e-06 -6.2114200e-06\n",
      " -6.2114200e-06 -6.2114200e-06 -6.2114200e-06 -6.2114200e-06\n",
      " -6.2114200e-06 -6.2114200e-06 -6.2114200e-06 -6.2114200e-06\n",
      "  1.0624450e-03] \n",
      " loss: 30019.475\n"
     ]
    }
   ],
   "source": [
    "for i in range(0, 1000):\n",
    "    sess.run(update, feed_dict={x:data_x, y_:data_y})\n",
    "    if i % 100 == 0 :\n",
    "        print('Iteration:' , i , '\\n',\n",
    "              ' W:' , sess.run(W) , '\\n',\n",
    "              ' b:' , sess.run(b), '\\n',\n",
    "              'loss:', loss.eval(session=sess, feed_dict = {x:data_x, y_:data_y}))\n"
   ]
  },
  {
   "cell_type": "code",
   "execution_count": 20,
   "metadata": {
    "pycharm": {
     "name": "#%%\n"
    }
   },
   "outputs": [],
   "source": []
  }
 ],
 "metadata": {
  "kernelspec": {
   "display_name": "Python 3",
   "language": "python",
   "name": "python3"
  },
  "language_info": {
   "codemirror_mode": {
    "name": "ipython",
    "version": 3
   },
   "file_extension": ".py",
   "mimetype": "text/x-python",
   "name": "python",
   "nbconvert_exporter": "python",
   "pygments_lexer": "ipython3",
   "version": "3.8.3"
  }
 },
 "nbformat": 4,
 "nbformat_minor": 1
}