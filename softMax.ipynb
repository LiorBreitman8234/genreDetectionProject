{
 "cells": [
  {
   "cell_type": "code",
   "execution_count": 13,
   "metadata": {
    "collapsed": true,
    "pycharm": {
     "name": "#%%\n"
    }
   },
   "outputs": [],
   "source": [
    "import tensorflow.compat.v1 as tf\n",
    "tf.disable_v2_behavior()\n",
    "import numpy as np"
   ]
  },
  {
   "cell_type": "code",
   "execution_count": 14,
   "outputs": [],
   "source": [
    "# TODO change to our data\n",
    "data = [\n",
    "\t\"Your auto payment of $50 was charges successfully!\",\n",
    "\t\"You have received a refund of $20\",\n",
    "\t\"Please complete your power point presentation by tomorrow.\",\n",
    "\t\"You must arrive on time tomorrow, otherwise the manager will want to talk to you\",\n",
    "\t\"How about celebrating Bob's birthday party next week?\",\n",
    "\t\"Everyone is waiting for you at home, please come home early!\"]"
   ],
   "metadata": {
    "collapsed": false,
    "pycharm": {
     "name": "#%%\n"
    }
   }
  },
  {
   "cell_type": "code",
   "execution_count": 15,
   "outputs": [],
   "source": [
    "vocabulary_size = 0 #can use \"global\" keyword\n",
    "word2location = {}\n",
    "\n",
    "def prepare_vocabulary(data):\n",
    "    idx = 0\n",
    "    for sentence in data:\n",
    "        for word in sentence.split():\n",
    "            if word not in word2location:\n",
    "                word2location[word] = idx\n",
    "                idx += 1\n",
    "    return idx\n",
    "\n",
    "def convert2vec(sentence):\n",
    "    # print(sentence)\n",
    "    res_vec = np.zeros(vocabulary_size)\n",
    "    for word in sentence.split():\n",
    "        if word in word2location:\n",
    "            res_vec[word2location[word]] += 1\n",
    "    return res_vec"
   ],
   "metadata": {
    "collapsed": false,
    "pycharm": {
     "name": "#%%\n"
    }
   }
  },
  {
   "cell_type": "code",
   "execution_count": 16,
   "outputs": [],
   "source": [
    "# need to change to the number of the features we have in our data\n",
    "vocabulary_size = prepare_vocabulary(data)\n",
    "categories = 3 # 161 change to our data\n",
    "x = tf.placeholder(tf.float32, [None, vocabulary_size])\n",
    "y_ = tf.placeholder(tf.float32, [None, categories])\n",
    "W = tf.Variable(tf.zeros([vocabulary_size, categories]))\n",
    "b = tf.Variable(tf.zeros([categories]))\n",
    "\n",
    "z = tf.matmul(x, W) + b\n",
    "pred = tf.nn.softmax(z)\n",
    "# loss = -tf.reduce_mean(y_ * tf.log(pred))\n",
    "loss = tf.reduce_mean(tf.nn.softmax_cross_entropy_with_logits_v2(y_, z))\n",
    "\n",
    "update = tf.train.GradientDescentOptimizer(0.001).minimize(loss)"
   ],
   "metadata": {
    "collapsed": false,
    "pycharm": {
     "name": "#%%\n"
    }
   }
  },
  {
   "cell_type": "code",
   "execution_count": 17,
   "outputs": [],
   "source": [
    "# TODO change to our data\n",
    "data_x = np.array([convert2vec(data[i]) for i in range(len(data))])\n",
    "data_y = np.array([[1,0,0],[1,0,0],[0,1,0],[0,1,0],[0,0,1],[0,0,1]])\n",
    "# print(data_y)\n",
    "# print(data_x)"
   ],
   "metadata": {
    "collapsed": false,
    "pycharm": {
     "name": "#%%\n"
    }
   }
  },
  {
   "cell_type": "code",
   "execution_count": 18,
   "outputs": [],
   "source": [
    "sess = tf.Session()\n",
    "sess.run(tf.global_variables_initializer())"
   ],
   "metadata": {
    "collapsed": false,
    "pycharm": {
     "name": "#%%\n"
    }
   }
  },
  {
   "cell_type": "code",
   "execution_count": 19,
   "outputs": [],
   "source": [
    "for i in range(0, 10000):\n",
    "    sess.run(update, feed_dict={x:data_x, y_:data_y})"
   ],
   "metadata": {
    "collapsed": false,
    "pycharm": {
     "name": "#%%\n"
    }
   }
  },
  {
   "cell_type": "code",
   "execution_count": 20,
   "outputs": [],
   "source": [
    "# TODO change to our tests\n",
    "test1 = \"Your payment has been received, no refund is currently available\"\n",
    "test2 = \"The manager said that your presentation went well, but next time make sure to arrive on time\""
   ],
   "metadata": {
    "collapsed": false,
    "pycharm": {
     "name": "#%%\n"
    }
   }
  },
  {
   "cell_type": "code",
   "execution_count": 21,
   "outputs": [
    {
     "name": "stdout",
     "output_type": "stream",
     "text": [
      "Prediction for: \"Your payment has been received, no refund is currently available\":  [[0.60667795 0.15299481 0.24032721]]\n"
     ]
    }
   ],
   "source": [
    "print('Prediction for: \"' + test1 + '\": ', sess.run(pred, feed_dict={x:[convert2vec(test1)]}))"
   ],
   "metadata": {
    "collapsed": false,
    "pycharm": {
     "name": "#%%\n"
    }
   }
  },
  {
   "cell_type": "code",
   "execution_count": 22,
   "outputs": [
    {
     "name": "stdout",
     "output_type": "stream",
     "text": [
      "Prediction for: \"The manager said that your presentation went well, but next time make sure to arrive on time\":  [[0.05559109 0.8593825  0.08502637]]\n"
     ]
    }
   ],
   "source": [
    "print('Prediction for: \"' + test2 + '\": ', sess.run(pred, feed_dict={x:[convert2vec(test2)]}))\n"
   ],
   "metadata": {
    "collapsed": false,
    "pycharm": {
     "name": "#%%\n"
    }
   }
  },
  {
   "cell_type": "code",
   "execution_count": null,
   "outputs": [],
   "source": [],
   "metadata": {
    "collapsed": false,
    "pycharm": {
     "name": "#%%\n"
    }
   }
  }
 ],
 "metadata": {
  "kernelspec": {
   "name": "python3",
   "language": "python",
   "display_name": "Python 3 (ipykernel)"
  },
  "language_info": {
   "codemirror_mode": {
    "name": "ipython",
    "version": 2
   },
   "file_extension": ".py",
   "mimetype": "text/x-python",
   "name": "python",
   "nbconvert_exporter": "python",
   "pygments_lexer": "ipython2",
   "version": "2.7.6"
  }
 },
 "nbformat": 4,
 "nbformat_minor": 0
}