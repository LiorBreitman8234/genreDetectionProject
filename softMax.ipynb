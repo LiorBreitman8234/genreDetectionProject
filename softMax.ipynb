{
 "cells": [
  {
   "cell_type": "code",
   "execution_count": 1,
   "metadata": {
    "collapsed": true,
    "pycharm": {
     "name": "#%%\n"
    }
   },
   "outputs": [
    {
     "name": "stdout",
     "output_type": "stream",
     "text": [
      "WARNING:tensorflow:From c:\\users\\talia\\pycharmprojects\\nlp\\venv\\lib\\site-packages\\tensorflow\\python\\compat\\v2_compat.py:107: disable_resource_variables (from tensorflow.python.ops.variable_scope) is deprecated and will be removed in a future version.\n",
      "Instructions for updating:\n",
      "non-resource variables are not supported in the long term\n"
     ]
    }
   ],
   "source": [
    "import tensorflow.compat.v1 as tf\n",
    "tf.disable_v2_behavior()\n",
    "import pandas as pd\n",
    "import numpy as np"
   ]
  },
  {
   "cell_type": "code",
   "execution_count": 18,
   "outputs": [
    {
     "name": "stderr",
     "output_type": "stream",
     "text": [
      "C:\\Users\\talia\\AppData\\Local\\Temp\\ipykernel_9624\\799533498.py:1: DtypeWarning: Columns (0,1,2,3,4,5,6,7,8,9,10,11,12,13,14,15,16,17,18,19,20,21,22,23,24,25,26,27,28,29,30,31,32,33,34,35,36,37,38,39,40,41,42,43,44,45,46,47,48,49,50,51,52,53,54,55,56,57,58,59,60,61,62,63,64,65,66,67,68,69,70,71,72,73,74,75,76,77,78,79,80,81,82,83,84,85,86,87,88,89,90,91,92,93,94,95,96,97,98,99,100,101,102,103,104,105,106,107,108,109,110,111,112,113,114,115,116,117,118,119,120,121,122,123,124,125,126,127,128,129,130,131,132,133,134,135,136,137,138,139,140,141,142,143,144,145,146,147,148,149,150,151,152,153,154,155,156,157,158,159,160,161,162,163,164,165,166,167,168,169,170,171,172,173,174,175,176,177,178,179,180,181,182,183,184,185,186,187,188,189,190,191,192,193,194,195,196,197,198,199,200,201,202,203,204,205,206,207,208,209,210,211,212,213,214,215,216,217,218,219,220,221,222,223,224,225,226,227,228,229,230,231,232,233,234,235,236,237,238,239,240,241,242,243,244,245,246,247,248,249,250,251,252,253,254,255,256,257,258,259,260,261,262,263,264,265,266,267,268,269,270,271,272,273,274,275,276,277,278,279,280,281,282,283,284,285,286,287,288,289,290,291,292,293,294,295,296,297,298,299,300,301,302,303,304,305,306,307,308,309,310,311,312,313,314,315,316,317,318,319,320,321,322,323,324,325,326,327,328,329,330,331,332,333,334,335,336,337,338,339,340,341,342,343,344,345,346,347,348,349,350,351,352,353,354,355,356,357,358,359,360,361,362,363,364,365,366,367,368,369,370,371,372,373,374,375,376,377,378,379,380,381,382,383,384,385,386,387,388,389,390,391,392,393,394,395,396,397,398,399,400,401,402,403,404,405,406,407,408,409,410,411,412,413,414,415,416,417,418,419,420,421,422,423,424,425,426,427,428,429,430,431,432,433,434,435,436,437,438,439,440,441,442,443,444,445,446,447,448,449,450,451,452,453,454,455,456,457,458,459,460,461,462,463,464,465,466,467,468,469,470,471,472,473,474,475,476,477,478,479,480,481,482,483,484,485,486,487,488,489,490,491,492,493,494,495,496,497,498,499,500,501,502,503,504,505,506,507,508,509,510,511,512,513,514,515,516,517,518) have mixed types. Specify dtype option on import or set low_memory=False.\n",
      "  data = pd.read_csv(\"data/only_genre_features.csv\")\n"
     ]
    },
    {
     "data": {
      "text/plain": "      feature    chroma_cens    chroma_cens.1   chroma_cens.2 chroma_cens.3  \\\n0  statistics       kurtosis         kurtosis        kurtosis      kurtosis   \n1      number             01               02              03            04   \n3           2   7.1806526184     5.2303090096   0.24932080507  1.3476201296   \n4           3   1.8889633417    0.76053929329   0.34529656172  2.2952005863   \n5           5  0.52756297588  -0.077654317021  -0.27961030602  0.6858831048   \n\n  chroma_cens.4   chroma_cens.5   chroma_cens.6   chroma_cens.7  \\\n0      kurtosis        kurtosis        kurtosis        kurtosis   \n1            05              06              07              08   \n3  1.4824777842   0.53137123585    1.4815930128     2.691454649   \n4  1.6540306807  0.067592434585    1.3668476343    1.0540937185   \n5  1.9375696182     0.880838871  -0.92319184542  -0.92723226547   \n\n   chroma_cens.8  ...      tonnetz.39      tonnetz.40      tonnetz.41  \\\n0       kurtosis  ...             std             std             std   \n1             09  ...              04              05              06   \n3  0.86686819792  ...  0.054125156254  0.012225749902  0.012110591866   \n4  0.10810308903  ...  0.063831120729  0.014211839065  0.017740072682   \n5  0.66661673784  ...  0.040730185807  0.012690781616  0.014759079553   \n\n            zcr          zcr.1           zcr.2          zcr.3 zcr.4  \\\n0      kurtosis            max            mean         median   min   \n1            01             01              01             01    01   \n3   5.758890152  0.45947265625  0.085629448295   0.0712890625   0.0   \n4  2.8246941566  0.46630859375  0.084578499198  0.06396484375   0.0   \n5  6.8084154129          0.375   0.05311408639  0.04150390625   0.0   \n\n          zcr.5           zcr.6  \n0          skew             std  \n1            01              01  \n3  2.0898721218  0.061448108405  \n4  1.7167237997    0.0693301633  \n5  2.1933031082  0.044860601425  \n\n[5 rows x 519 columns]",
      "text/html": "<div>\n<style scoped>\n    .dataframe tbody tr th:only-of-type {\n        vertical-align: middle;\n    }\n\n    .dataframe tbody tr th {\n        vertical-align: top;\n    }\n\n    .dataframe thead th {\n        text-align: right;\n    }\n</style>\n<table border=\"1\" class=\"dataframe\">\n  <thead>\n    <tr style=\"text-align: right;\">\n      <th></th>\n      <th>feature</th>\n      <th>chroma_cens</th>\n      <th>chroma_cens.1</th>\n      <th>chroma_cens.2</th>\n      <th>chroma_cens.3</th>\n      <th>chroma_cens.4</th>\n      <th>chroma_cens.5</th>\n      <th>chroma_cens.6</th>\n      <th>chroma_cens.7</th>\n      <th>chroma_cens.8</th>\n      <th>...</th>\n      <th>tonnetz.39</th>\n      <th>tonnetz.40</th>\n      <th>tonnetz.41</th>\n      <th>zcr</th>\n      <th>zcr.1</th>\n      <th>zcr.2</th>\n      <th>zcr.3</th>\n      <th>zcr.4</th>\n      <th>zcr.5</th>\n      <th>zcr.6</th>\n    </tr>\n  </thead>\n  <tbody>\n    <tr>\n      <th>0</th>\n      <td>statistics</td>\n      <td>kurtosis</td>\n      <td>kurtosis</td>\n      <td>kurtosis</td>\n      <td>kurtosis</td>\n      <td>kurtosis</td>\n      <td>kurtosis</td>\n      <td>kurtosis</td>\n      <td>kurtosis</td>\n      <td>kurtosis</td>\n      <td>...</td>\n      <td>std</td>\n      <td>std</td>\n      <td>std</td>\n      <td>kurtosis</td>\n      <td>max</td>\n      <td>mean</td>\n      <td>median</td>\n      <td>min</td>\n      <td>skew</td>\n      <td>std</td>\n    </tr>\n    <tr>\n      <th>1</th>\n      <td>number</td>\n      <td>01</td>\n      <td>02</td>\n      <td>03</td>\n      <td>04</td>\n      <td>05</td>\n      <td>06</td>\n      <td>07</td>\n      <td>08</td>\n      <td>09</td>\n      <td>...</td>\n      <td>04</td>\n      <td>05</td>\n      <td>06</td>\n      <td>01</td>\n      <td>01</td>\n      <td>01</td>\n      <td>01</td>\n      <td>01</td>\n      <td>01</td>\n      <td>01</td>\n    </tr>\n    <tr>\n      <th>3</th>\n      <td>2</td>\n      <td>7.1806526184</td>\n      <td>5.2303090096</td>\n      <td>0.24932080507</td>\n      <td>1.3476201296</td>\n      <td>1.4824777842</td>\n      <td>0.53137123585</td>\n      <td>1.4815930128</td>\n      <td>2.691454649</td>\n      <td>0.86686819792</td>\n      <td>...</td>\n      <td>0.054125156254</td>\n      <td>0.012225749902</td>\n      <td>0.012110591866</td>\n      <td>5.758890152</td>\n      <td>0.45947265625</td>\n      <td>0.085629448295</td>\n      <td>0.0712890625</td>\n      <td>0.0</td>\n      <td>2.0898721218</td>\n      <td>0.061448108405</td>\n    </tr>\n    <tr>\n      <th>4</th>\n      <td>3</td>\n      <td>1.8889633417</td>\n      <td>0.76053929329</td>\n      <td>0.34529656172</td>\n      <td>2.2952005863</td>\n      <td>1.6540306807</td>\n      <td>0.067592434585</td>\n      <td>1.3668476343</td>\n      <td>1.0540937185</td>\n      <td>0.10810308903</td>\n      <td>...</td>\n      <td>0.063831120729</td>\n      <td>0.014211839065</td>\n      <td>0.017740072682</td>\n      <td>2.8246941566</td>\n      <td>0.46630859375</td>\n      <td>0.084578499198</td>\n      <td>0.06396484375</td>\n      <td>0.0</td>\n      <td>1.7167237997</td>\n      <td>0.0693301633</td>\n    </tr>\n    <tr>\n      <th>5</th>\n      <td>5</td>\n      <td>0.52756297588</td>\n      <td>-0.077654317021</td>\n      <td>-0.27961030602</td>\n      <td>0.6858831048</td>\n      <td>1.9375696182</td>\n      <td>0.880838871</td>\n      <td>-0.92319184542</td>\n      <td>-0.92723226547</td>\n      <td>0.66661673784</td>\n      <td>...</td>\n      <td>0.040730185807</td>\n      <td>0.012690781616</td>\n      <td>0.014759079553</td>\n      <td>6.8084154129</td>\n      <td>0.375</td>\n      <td>0.05311408639</td>\n      <td>0.04150390625</td>\n      <td>0.0</td>\n      <td>2.1933031082</td>\n      <td>0.044860601425</td>\n    </tr>\n  </tbody>\n</table>\n<p>5 rows × 519 columns</p>\n</div>"
     },
     "execution_count": 18,
     "metadata": {},
     "output_type": "execute_result"
    }
   ],
   "source": [
    "# data\n",
    "data = pd.read_csv(\"data/only_genre_features.csv\")\n",
    "data = data.dropna()\n",
    "data.head()"
   ],
   "metadata": {
    "collapsed": false,
    "pycharm": {
     "name": "#%%\n"
    }
   }
  },
  {
   "cell_type": "code",
   "execution_count": 20,
   "outputs": [
    {
     "data": {
      "text/plain": "  \\ttrack_id\\talbum_id\\tartist_id\\tbit_rate\\tduration\\tgenre_id\n0                      2\\t2\\t1\\t1\\t256000\\t168\\t20.0           \n1                      3\\t3\\t1\\t1\\t256000\\t237\\t20.0           \n2                      4\\t5\\t1\\t1\\t256000\\t206\\t20.0           \n3                      5\\t10\\t6\\t6\\t192000\\t161\\t9.0           \n4                   11\\t134\\t1\\t1\\t256000\\t207\\t20.0           ",
      "text/html": "<div>\n<style scoped>\n    .dataframe tbody tr th:only-of-type {\n        vertical-align: middle;\n    }\n\n    .dataframe tbody tr th {\n        vertical-align: top;\n    }\n\n    .dataframe thead th {\n        text-align: right;\n    }\n</style>\n<table border=\"1\" class=\"dataframe\">\n  <thead>\n    <tr style=\"text-align: right;\">\n      <th></th>\n      <th>\\ttrack_id\\talbum_id\\tartist_id\\tbit_rate\\tduration\\tgenre_id</th>\n    </tr>\n  </thead>\n  <tbody>\n    <tr>\n      <th>0</th>\n      <td>2\\t2\\t1\\t1\\t256000\\t168\\t20.0</td>\n    </tr>\n    <tr>\n      <th>1</th>\n      <td>3\\t3\\t1\\t1\\t256000\\t237\\t20.0</td>\n    </tr>\n    <tr>\n      <th>2</th>\n      <td>4\\t5\\t1\\t1\\t256000\\t206\\t20.0</td>\n    </tr>\n    <tr>\n      <th>3</th>\n      <td>5\\t10\\t6\\t6\\t192000\\t161\\t9.0</td>\n    </tr>\n    <tr>\n      <th>4</th>\n      <td>11\\t134\\t1\\t1\\t256000\\t207\\t20.0</td>\n    </tr>\n  </tbody>\n</table>\n</div>"
     },
     "execution_count": 20,
     "metadata": {},
     "output_type": "execute_result"
    }
   ],
   "source": [
    "# TODO check the data upload\n",
    "# targets\n",
    "generes = pd.read_csv(\"data/tracks_genres.csv\")\n",
    "data = data.dropna()\n",
    "# generes['genre_id']\n",
    "generes.head()"
   ],
   "metadata": {
    "collapsed": false,
    "pycharm": {
     "name": "#%%\n"
    }
   }
  },
  {
   "cell_type": "code",
   "execution_count": 16,
   "outputs": [],
   "source": [
    "vocabulary_size = 519\n",
    "categories = 162 # 162\n",
    "x = tf.placeholder(tf.float32, [None, vocabulary_size])\n",
    "y_ = tf.placeholder(tf.float32, [None, categories])\n",
    "W = tf.Variable(tf.zeros([vocabulary_size, categories]))\n",
    "b = tf.Variable(tf.zeros([categories]))\n",
    "\n",
    "z = tf.matmul(x, W) + b\n",
    "pred = tf.nn.softmax(z)\n",
    "# loss = -tf.reduce_mean(y_ * tf.log(pred))\n",
    "loss = tf.reduce_mean(tf.nn.softmax_cross_entropy_with_logits_v2(y_, z))\n",
    "\n",
    "update = tf.train.GradientDescentOptimizer(0.001).minimize(loss)"
   ],
   "metadata": {
    "collapsed": false,
    "pycharm": {
     "name": "#%%\n"
    }
   }
  },
  {
   "cell_type": "code",
   "execution_count": 17,
   "outputs": [],
   "source": [
    "# TODO change to our data\n",
    "data_x = data\n",
    "data_y = generes[\"genre_id\"]\n",
    "# print(data_y)\n",
    "# print(data_x)"
   ],
   "metadata": {
    "collapsed": false,
    "pycharm": {
     "name": "#%%\n"
    }
   }
  },
  {
   "cell_type": "code",
   "execution_count": 18,
   "outputs": [],
   "source": [
    "sess = tf.Session()\n",
    "sess.run(tf.global_variables_initializer())"
   ],
   "metadata": {
    "collapsed": false,
    "pycharm": {
     "name": "#%%\n"
    }
   }
  },
  {
   "cell_type": "code",
   "execution_count": 19,
   "outputs": [],
   "source": [
    "for i in range(0, 10000):\n",
    "    sess.run(update, feed_dict={x:data_x, y_:data_y})"
   ],
   "metadata": {
    "collapsed": false,
    "pycharm": {
     "name": "#%%\n"
    }
   }
  },
  {
   "cell_type": "code",
   "execution_count": 20,
   "outputs": [],
   "source": [
    "# TODO change to our tests\n",
    "# test1 = \"Your payment has been received, no refund is currently available\"\n",
    "# test2 = \"The manager said that your presentation went well, but next time make sure to arrive on time\""
   ],
   "metadata": {
    "collapsed": false,
    "pycharm": {
     "name": "#%%\n"
    }
   }
  },
  {
   "cell_type": "code",
   "execution_count": 21,
   "outputs": [
    {
     "name": "stdout",
     "output_type": "stream",
     "text": [
      "Prediction for: \"Your payment has been received, no refund is currently available\":  [[0.60667795 0.15299481 0.24032721]]\n"
     ]
    }
   ],
   "source": [
    "# print('Prediction for: \"' + test1 + '\": ', sess.run(pred, feed_dict={x:[convert2vec(test1)]}))"
   ],
   "metadata": {
    "collapsed": false,
    "pycharm": {
     "name": "#%%\n"
    }
   }
  },
  {
   "cell_type": "code",
   "execution_count": 22,
   "outputs": [
    {
     "name": "stdout",
     "output_type": "stream",
     "text": [
      "Prediction for: \"The manager said that your presentation went well, but next time make sure to arrive on time\":  [[0.05559109 0.8593825  0.08502637]]\n"
     ]
    }
   ],
   "source": [
    "# print('Prediction for: \"' + test2 + '\": ', sess.run(pred, feed_dict={x:[convert2vec(test2)]}))\n"
   ],
   "metadata": {
    "collapsed": false,
    "pycharm": {
     "name": "#%%\n"
    }
   }
  },
  {
   "cell_type": "code",
   "execution_count": null,
   "outputs": [],
   "source": [],
   "metadata": {
    "collapsed": false,
    "pycharm": {
     "name": "#%%\n"
    }
   }
  }
 ],
 "metadata": {
  "kernelspec": {
   "name": "python3",
   "language": "python",
   "display_name": "Python 3 (ipykernel)"
  },
  "language_info": {
   "codemirror_mode": {
    "name": "ipython",
    "version": 2
   },
   "file_extension": ".py",
   "mimetype": "text/x-python",
   "name": "python",
   "nbconvert_exporter": "python",
   "pygments_lexer": "ipython2",
   "version": "2.7.6"
  }
 },
 "nbformat": 4,
 "nbformat_minor": 0
}