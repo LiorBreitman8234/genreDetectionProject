{
 "cells": [
  {
   "cell_type": "code",
   "execution_count": 247,
   "id": "cc822e1a",
   "metadata": {},
   "outputs": [],
   "source": [
    "import numpy as np\n",
    "import pandas as pd\n",
    "import matplotlib.pyplot as plt\n",
    "from keras.layers import Dropout\n",
    "%matplotlib inline  \n",
    "import tensorflow as tf\n",
    "import warnings\n",
    "warnings.filterwarnings('ignore')\n",
    "from sklearn.preprocessing import OneHotEncoder\n",
    "from sklearn.model_selection import train_test_split\n",
    "from keras import layers, models"
   ]
  },
  {
   "cell_type": "code",
   "execution_count": 248,
   "outputs": [
    {
     "name": "stdout",
     "output_type": "stream",
     "text": [
      "2.10.1\n"
     ]
    }
   ],
   "source": [
    "print(tf.__version__)"
   ],
   "metadata": {
    "collapsed": false
   }
  },
  {
   "cell_type": "code",
   "execution_count": 249,
   "id": "a145ad1c",
   "metadata": {},
   "outputs": [],
   "source": [
    "def prepareData():\n",
    "    allData = pd.read_csv(\"data/songs_with_genre.csv\", index_col=0, header=[0, 1, 2])\n",
    "    genres = allData[\"genre_id\"]\n",
    "    genres_index = pd.read_csv(\"data/genres_index.csv\", index_col=0)\n",
    "    allData.drop(columns=[\"genre_id\"], inplace=True)\n",
    "    data_x = allData\n",
    "    data_x.columns = range(data_x.shape[1])\n",
    "    #normalizing\n",
    "    mu = np.mean(data_x, axis=0)\n",
    "    sigma = (np.std(data_x, axis=0))\n",
    "    data_x = (data_x - mu) / sigma\n",
    "    #Creating the right labels\n",
    "    genres.columns = range(genres.shape[1])\n",
    "    targets = OneHotEncoder().fit_transform(genres_index).toarray()\n",
    "    genres[0] = genres[0] - 1\n",
    "    data_y = [targets[i - 1] for i in genres[0]]\n",
    "    genres[0] = data_y\n",
    "    \n",
    "    test = genres.copy()\n",
    "    test.rename(columns={0: \"oneHotVector\"}, inplace=True)\n",
    "    # test.shape\n",
    "    split = pd.DataFrame(test[\"oneHotVector\"].to_list(), columns=range(161))\n",
    "    split.index = genres.index\n",
    "    genres = split\n",
    "    return data_x, genres"
   ]
  },
  {
   "cell_type": "code",
   "execution_count": 250,
   "id": "175f775e",
   "metadata": {},
   "outputs": [
    {
     "name": "stdout",
     "output_type": "stream",
     "text": [
      "(39678, 518)\n",
      "39678\n",
      "(4960, 518)\n",
      "4960\n",
      "(4960, 518)\n",
      "4960\n"
     ]
    },
    {
     "data": {
      "text/plain": "(None, None)"
     },
     "execution_count": 250,
     "metadata": {},
     "output_type": "execute_result"
    }
   ],
   "source": [
    "data_x, labels = prepareData()\n",
    "x_train, x_rest, y_train, y_rest = train_test_split(data_x, labels, train_size=0.8)\n",
    "x_test, x_valid, y_test, y_valid = train_test_split(x_rest, y_rest, train_size=0.5)\n",
    "print(x_train.shape), print(len(y_train))\n",
    "print(x_valid.shape), print(len(y_valid))\n",
    "print(x_test.shape), print(len(y_test))"
   ]
  },
  {
   "cell_type": "code",
   "execution_count": 251,
   "outputs": [],
   "source": [
    "# x_train = x_train.reshape((-1, 518, 128, 1))\n",
    "# y_train = tf.keras.utils.to_categorical(y_train, num_classes=161)\n"
   ],
   "metadata": {
    "collapsed": false
   }
  },
  {
   "cell_type": "code",
   "execution_count": 252,
   "outputs": [],
   "source": [
    "# Parameters\n",
    "\n",
    "# Layers\n",
    "kernel_size = 3\n",
    "pool_size = 2\n",
    "starting_filters = 32\n",
    "activation_func_layer = 'relu'\n",
    "activation_func_end = 'softmax'\n",
    "padding_method = 'same'\n",
    "optimizer_func = 'adam'\n",
    "dropout = 0.5\n",
    "\n",
    "# Fit\n",
    "loss_function = 'categorical_crossentropy'\n",
    "epochs = 10\n",
    "batch_size = 102\n",
    "\n",
    "# Halt\n",
    "halt_monitor = 'val_accuracy'\n",
    "halt_mod = 'max'\n",
    "patience = 10"
   ],
   "metadata": {
    "collapsed": false
   }
  },
  {
   "cell_type": "code",
   "execution_count": 253,
   "id": "69033307",
   "metadata": {},
   "outputs": [],
   "source": [
    "n_features, n_outputs = x_train.shape[1], y_train.shape[1]\n",
    "CNN = models.Sequential()\n",
    "CNN.add(layers.Conv2D(filters=32, kernel_size=3, activation='relu', input_shape=(n_features, 128, 1), padding='same'))\n",
    "CNN.add(layers.MaxPooling2D(pool_size=2))\n",
    "CNN.add(layers.Conv2D(filters=64, kernel_size=3, activation='relu'))\n",
    "CNN.add(layers.MaxPooling2D(pool_size=2))\n",
    "# CNN.add(layers.Conv1D(filters=128, kernel_size=4, activation='relu'))\n",
    "# CNN.add(layers.MaxPooling1D(pool_size=2))\n",
    "# CNN.add(layers.Conv1D(filters=256, kernel_size=4, activation='relu'))\n",
    "# CNN.add(layers.MaxPooling1D(pool_size=3))\n",
    "CNN.add(layers.Flatten())\n",
    "# CNN.add(layers.Dropout(0.4))\n",
    "CNN.add(layers.Dense(64, activation='relu'))\n",
    "# CNN.add(layers.BatchNormalization())\n",
    "CNN.add(layers.Dense(n_outputs, activation='softmax'))"
   ]
  },
  {
   "cell_type": "code",
   "execution_count": 254,
   "id": "619c9186",
   "metadata": {},
   "outputs": [
    {
     "name": "stdout",
     "output_type": "stream",
     "text": [
      "Model: \"sequential_24\"\n",
      "_________________________________________________________________\n",
      " Layer (type)                Output Shape              Param #   \n",
      "=================================================================\n",
      " conv2d_43 (Conv2D)          (None, 518, 128, 32)      320       \n",
      "                                                                 \n",
      " max_pooling2d_43 (MaxPoolin  (None, 259, 64, 32)      0         \n",
      " g2D)                                                            \n",
      "                                                                 \n",
      " conv2d_44 (Conv2D)          (None, 257, 62, 64)       18496     \n",
      "                                                                 \n",
      " max_pooling2d_44 (MaxPoolin  (None, 128, 31, 64)      0         \n",
      " g2D)                                                            \n",
      "                                                                 \n",
      " flatten_23 (Flatten)        (None, 253952)            0         \n",
      "                                                                 \n",
      " dense_46 (Dense)            (None, 64)                16252992  \n",
      "                                                                 \n",
      " dense_47 (Dense)            (None, 161)               10465     \n",
      "                                                                 \n",
      "=================================================================\n",
      "Total params: 16,282,273\n",
      "Trainable params: 16,282,273\n",
      "Non-trainable params: 0\n",
      "_________________________________________________________________\n"
     ]
    }
   ],
   "source": [
    "CNN.summary()"
   ]
  },
  {
   "cell_type": "code",
   "execution_count": 255,
   "outputs": [],
   "source": [
    "# # Reshape the input data\n",
    "# x_train = x_train.values.reshape((x_train.shape[0], x_train.shape[1], 1, 1))\n",
    "# x_valid = x_valid.values.reshape((x_valid.shape[0], x_valid.shape[1], 1, 1))\n",
    "# x_test = x_test.values.reshape((x_test.shape[0], x_test.shape[1], 1, 1))"
   ],
   "metadata": {
    "collapsed": false
   }
  },
  {
   "cell_type": "code",
   "execution_count": 256,
   "outputs": [],
   "source": [
    "# # Reshape the input data to have shape (num_samples, 518, 128, 1)\n",
    "# num_samples = x_train.shape[0]\n",
    "# x_train = x_train.values.reshape((num_samples, 518, 128, 1))\n",
    "#\n",
    "# # Do the same for the validation and test sets\n",
    "# num_samples = x_valid.shape[0]\n",
    "# x_valid = x_valid.values.reshape((num_samples, 518, 128, 1))\n",
    "#\n",
    "# num_samples = x_test.shape[0]\n",
    "# x_test = x_test.values.reshape((num_samples, 518, 128, 1))"
   ],
   "metadata": {
    "collapsed": false
   }
  },
  {
   "cell_type": "code",
   "execution_count": 257,
   "outputs": [
    {
     "ename": "ValueError",
     "evalue": "cannot reshape array of size 0 into shape (39678,518,128,1)",
     "output_type": "error",
     "traceback": [
      "\u001B[1;31m---------------------------------------------------------------------------\u001B[0m",
      "\u001B[1;31mValueError\u001B[0m                                Traceback (most recent call last)",
      "\u001B[1;32m~\\AppData\\Local\\Temp\\ipykernel_30656\\3609749195.py\u001B[0m in \u001B[0;36m<module>\u001B[1;34m\u001B[0m\n\u001B[0;32m      7\u001B[0m \u001B[1;31m# Reshape the input data to have shape (num_samples, 518, 128, 1)\u001B[0m\u001B[1;33m\u001B[0m\u001B[1;33m\u001B[0m\u001B[0m\n\u001B[0;32m      8\u001B[0m \u001B[0mnum_samples\u001B[0m \u001B[1;33m=\u001B[0m \u001B[0mx_train\u001B[0m\u001B[1;33m.\u001B[0m\u001B[0mshape\u001B[0m\u001B[1;33m[\u001B[0m\u001B[1;36m0\u001B[0m\u001B[1;33m]\u001B[0m\u001B[1;33m\u001B[0m\u001B[1;33m\u001B[0m\u001B[0m\n\u001B[1;32m----> 9\u001B[1;33m \u001B[0mx_train\u001B[0m \u001B[1;33m=\u001B[0m \u001B[0mx_train\u001B[0m\u001B[1;33m.\u001B[0m\u001B[0mreshape\u001B[0m\u001B[1;33m(\u001B[0m\u001B[1;33m(\u001B[0m\u001B[0mnum_samples\u001B[0m\u001B[1;33m,\u001B[0m \u001B[1;36m518\u001B[0m\u001B[1;33m,\u001B[0m \u001B[1;36m128\u001B[0m\u001B[1;33m,\u001B[0m \u001B[1;36m1\u001B[0m\u001B[1;33m)\u001B[0m\u001B[1;33m)\u001B[0m\u001B[1;33m\u001B[0m\u001B[1;33m\u001B[0m\u001B[0m\n\u001B[0m\u001B[0;32m     10\u001B[0m \u001B[1;33m\u001B[0m\u001B[0m\n\u001B[0;32m     11\u001B[0m \u001B[1;31m# Do the same for the validation and test sets\u001B[0m\u001B[1;33m\u001B[0m\u001B[1;33m\u001B[0m\u001B[0m\n",
      "\u001B[1;31mValueError\u001B[0m: cannot reshape array of size 0 into shape (39678,518,128,1)"
     ]
    }
   ],
   "source": [
    "# Calculate the number of columns needed to reshape the data to have the desired shape\n",
    "num_columns = x_train.shape[1] // (518 * 128)\n",
    "\n",
    "# Select the first num_columns columns of the input data\n",
    "x_train = x_train.values[:, :num_columns]\n",
    "\n",
    "# Reshape the input data to have shape (num_samples, 518, 128, 1)\n",
    "num_samples = x_train.shape[0]\n",
    "x_train = x_train.reshape((num_samples, 518, 128, 1))\n",
    "\n",
    "# Do the same for the validation and test sets\n",
    "num_samples = x_valid.shape[0]\n",
    "x_valid = x_valid.values[:, :num_columns].reshape((num_samples, 518, 128, 1))"
   ],
   "metadata": {
    "collapsed": false
   }
  },
  {
   "cell_type": "code",
   "execution_count": null,
   "id": "23bebc85",
   "metadata": {},
   "outputs": [],
   "source": [
    "CNN.compile(optimizer='adam', loss='categorical_crossentropy', metrics=['accuracy'])"
   ]
  },
  {
   "cell_type": "code",
   "execution_count": null,
   "outputs": [],
   "source": [],
   "metadata": {
    "collapsed": false
   }
  },
  {
   "cell_type": "code",
   "execution_count": null,
   "outputs": [],
   "source": [
    "# # Calculate the number of samples in the input data\n",
    "# num_samples = x_train.shape[0]\n",
    "#\n",
    "# # Calculate the number of columns needed to reshape the data to have the desired shape\n",
    "# num_columns = 87328 // num_samples\n",
    "# x_train = x_train.values.reshape((num_samples, 518, num_columns, 1))\n",
    "# y_train = tf.keras.utils.to_categorical(y_train, num_classes=161)"
   ],
   "metadata": {
    "collapsed": false
   }
  },
  {
   "cell_type": "code",
   "execution_count": null,
   "id": "805b4a2f",
   "metadata": {},
   "outputs": [],
   "source": [
    "\n",
    "callback = [tf.keras.callbacks.EarlyStopping(monitor='accuracy', mode=\"max\", patience=10)]\n",
    "training = CNN.fit(x_train, y_train, epochs=1000, validation_data=(x_valid, y_valid), batch_size=64, callbacks=callback)"
   ]
  },
  {
   "cell_type": "code",
   "execution_count": null,
   "outputs": [],
   "source": [],
   "metadata": {
    "collapsed": false
   }
  },
  {
   "cell_type": "code",
   "execution_count": null,
   "outputs": [],
   "source": [
    "metrics_df = pd.DataFrame(training.history)\n",
    "metrics_df[[\"loss\",\"val_loss\"]].plot();\n",
    "metrics_df[[\"accuracy\",\"val_accuracy\"]].plot();  # The semicolon prevents certain matplotlib items from being printed."
   ],
   "metadata": {
    "collapsed": false
   }
  },
  {
   "cell_type": "code",
   "execution_count": null,
   "id": "3e5455f0",
   "metadata": {},
   "outputs": [],
   "source": [
    "x_train.shape"
   ]
  },
  {
   "cell_type": "code",
   "execution_count": null,
   "id": "b16c8762",
   "metadata": {},
   "outputs": [],
   "source": [
    "y_train.shape"
   ]
  },
  {
   "cell_type": "code",
   "execution_count": null,
   "id": "9b7d98a1",
   "metadata": {
    "scrolled": true
   },
   "outputs": [],
   "source": [
    "y_train"
   ]
  },
  {
   "cell_type": "code",
   "execution_count": null,
   "id": "0fb80ced",
   "metadata": {},
   "outputs": [],
   "source": [
    "\n",
    "test_loss, test_accuracy = CNN.evaluate(x_train, y_train, verbose=2)"
   ]
  },
  {
   "cell_type": "code",
   "execution_count": null,
   "id": "e07c6a38",
   "metadata": {},
   "outputs": [],
   "source": [
    "test_accuracy"
   ]
  },
  {
   "cell_type": "code",
   "execution_count": null,
   "outputs": [],
   "source": [],
   "metadata": {
    "collapsed": false
   }
  }
 ],
 "metadata": {
  "kernelspec": {
   "display_name": "Python 3 (ipykernel)",
   "language": "python",
   "name": "python3"
  },
  "language_info": {
   "codemirror_mode": {
    "name": "ipython",
    "version": 3
   },
   "file_extension": ".py",
   "mimetype": "text/x-python",
   "name": "python",
   "nbconvert_exporter": "python",
   "pygments_lexer": "ipython3",
   "version": "3.9.15"
  }
 },
 "nbformat": 4,
 "nbformat_minor": 5
}
